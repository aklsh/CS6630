{
 "cells": [
  {
   "cell_type": "markdown",
   "metadata": {},
   "source": [
    "## CLEFIA CPA Attack\n",
    "\n",
    "```\n",
    "Conduct Correlation Power Analysis attacks at the first, second and last rounds of CLEFIA-128 encryption. \n",
    "\n",
    "Authors: Arjun Menon V (ee18b104), Akilesh Kannan (ee18b122)\n",
    "```\n",
    "\n",
    "Assignment 2, Secure Processor Microarchitecture\n",
    "\n",
    "August 2022"
   ]
  },
  {
   "cell_type": "code",
   "execution_count": 28,
   "metadata": {},
   "outputs": [],
   "source": [
    "import numpy as np\n",
    "import matplotlib.pyplot as plt\n",
    "from tqdm import tqdm\n",
    "from scipy.stats import linregress"
   ]
  },
  {
   "cell_type": "code",
   "execution_count": 29,
   "metadata": {},
   "outputs": [
    {
     "name": "stdout",
     "output_type": "stream",
     "text": [
      "(12000, 16)\n",
      "(12000, 18000)\n"
     ]
    }
   ],
   "source": [
    "# Load input and power trace\n",
    "textInp = np.load(\"../EE18B104_EE18B122/trace_002/textin_array.npy\", \"r\")\n",
    "powerTrace = np.load(\"../EE18B104_EE18B122/trace_002/trace_array.npy\", \"r\")\n",
    "#\n",
    "s0Arr = np.load(\"../data/s0.npy\", \"r\")\n",
    "s1Arr = np.load(\"../data/s1.npy\", \"r\")\n",
    "\n",
    "\n",
    "print(textInp.shape)\n",
    "print(powerTrace.shape)"
   ]
  },
  {
   "cell_type": "markdown",
   "metadata": {},
   "source": [
    "### Where do you take the Intermediate Result?\n",
    "\n",
    "At this point, we have two choices on the location of the intermediate result:\n",
    "\n",
    "- Output of the SBox opertion, in the GFN4 network\n",
    "- Output of the F0/1 operation in the GFN4 network\n",
    "\n",
    "The output of each SBox is an 8-bit word, and hence we can perform key search with $2^8$ guesses for each of the 16 Bytes of the Key. On the contrary, the output of the F functions are 32-bits wide and the search space involves $2^{32}$ possibilities for each of the 4 Words of the key. \n",
    "\n",
    "However, if the implementation uses a look-up table for the entire F function, without evaluating the intermediate SBox result, the former attack scheme will not work as there won't be any correlation between the intermediate result and the power trace. Hence this is a weaker attack, despite having lower online complexity. \n",
    "\n",
    "**Approach:**\n",
    "\n",
    "- Try the SBox attack first and see if correlations are got with sufficient confidence\n",
    "- Validate the results against the PT-CT pair provided\n",
    "- If the previous attack fails, try the F0/1 attack"
   ]
  },
  {
   "cell_type": "markdown",
   "metadata": {},
   "source": [
    "### CPA at the SBox Output\n",
    "\n",
    "**First Round of CLEFIA:**\n",
    "\n",
    "PT = P0 | P1 | P2 | P3\n",
    "\n",
    "T => P0 | P1 ^ WK0 | P2 | P3 ^ WK1\n",
    "\n",
    "T => P0 ^ RK0 | P1 ^ WK0 | P2 ^ RK1 | P3 ^ WK1\n",
    "\n",
    "T => S0(P0 ^ RK0) | P1 ^ WK0 | S1(P2 ^ RK1) | P3 ^ WK1  ---> Intermediate Result\n",
    "\n",
    "P0 ^ RK0 sent to S0 function and P2 ^ RK1 to S1 bytewise, and the HW of the results are correlated against the power trace. To find WK's, the intermediate result used is $P_{2i + 1}$ ^ $WK_i$"
   ]
  },
  {
   "cell_type": "code",
   "execution_count": 30,
   "metadata": {},
   "outputs": [],
   "source": [
    "def s0(inp):\n",
    "    '''\n",
    "    s0Arr =  [0x57, 0x49, 0xd1, 0xc6, 0x2f, 0x33, 0x74, 0xfb,\n",
    "              0x95, 0x6d, 0x82, 0xea, 0x0e, 0xb0, 0xa8, 0x1c,\n",
    "              0x28, 0xd0, 0x4b, 0x92, 0x5c, 0xee, 0x85, 0xb1,\n",
    "              0xc4, 0x0a, 0x76, 0x3d, 0x63, 0xf9, 0x17, 0xaf,\n",
    "              0xbf, 0xa1, 0x19, 0x65, 0xf7, 0x7a, 0x32, 0x20,\n",
    "              0x06, 0xce, 0xe4, 0x83, 0x9d, 0x5b, 0x4c, 0xd8,\n",
    "              0x42, 0x5d, 0x2e, 0xe8, 0xd4, 0x9b, 0x0f, 0x13,\n",
    "              0x3c, 0x89, 0x67, 0xc0, 0x71, 0xaa, 0xb6, 0xf5,\n",
    "              0xa4, 0xbe, 0xfd, 0x8c, 0x12, 0x00, 0x97, 0xda,\n",
    "              0x78, 0xe1, 0xcf, 0x6b, 0x39, 0x43, 0x55, 0x26,\n",
    "              0x30, 0x98, 0xcc, 0xdd, 0xeb, 0x54, 0xb3, 0x8f,\n",
    "              0x4e, 0x16, 0xfa, 0x22, 0xa5, 0x77, 0x09, 0x61,\n",
    "              0xd6, 0x2a, 0x53, 0x37, 0x45, 0xc1, 0x6c, 0xae,\n",
    "              0xef, 0x70, 0x08, 0x99, 0x8b, 0x1d, 0xf2, 0xb4,\n",
    "              0xe9, 0xc7, 0x9f, 0x4a, 0x31, 0x25, 0xfe, 0x7c,\n",
    "              0xd3, 0xa2, 0xbd, 0x56, 0x14, 0x88, 0x60, 0x0b,\n",
    "              0xcd, 0xe2, 0x34, 0x50, 0x9e, 0xdc, 0x11, 0x05,\n",
    "              0x2b, 0xb7, 0xa9, 0x48, 0xff, 0x66, 0x8a, 0x73,\n",
    "              0x03, 0x75, 0x86, 0xf1, 0x6a, 0xa7, 0x40, 0xc2,\n",
    "              0xb9, 0x2c, 0xdb, 0x1f, 0x58, 0x94, 0x3e, 0xed,\n",
    "              0xfc, 0x1b, 0xa0, 0x04, 0xb8, 0x8d, 0xe6, 0x59,\n",
    "              0x62, 0x93, 0x35, 0x7e, 0xca, 0x21, 0xdf, 0x47,\n",
    "              0x15, 0xf3, 0xba, 0x7f, 0xa6, 0x69, 0xc8, 0x4d,\n",
    "              0x87, 0x3b, 0x9c, 0x01, 0xe0, 0xde, 0x24, 0x52,\n",
    "              0x7b, 0x0c, 0x68, 0x1e, 0x80, 0xb2, 0x5a, 0xe7,\n",
    "              0xad, 0xd5, 0x23, 0xf4, 0x46, 0x3f, 0x91, 0xc9,\n",
    "              0x6e, 0x84, 0x72, 0xbb, 0x0d, 0x18, 0xd9, 0x96,\n",
    "              0xf0, 0x5f, 0x41, 0xac, 0x27, 0xc5, 0xe3, 0x3a,\n",
    "              0x81, 0x6f, 0x07, 0xa3, 0x79, 0xf6, 0x2d, 0x38,\n",
    "              0x1a, 0x44, 0x5e, 0xb5, 0xd2, 0xec, 0xcb, 0x90,\n",
    "              0x9a, 0x36, 0xe5, 0x29, 0xc3, 0x4f, 0xab, 0x64,\n",
    "              0x51, 0xf8, 0x10, 0xd7, 0xbc, 0x02, 0x7d, 0x8e]\n",
    "    '''\n",
    "    return s0Arr[inp]\n",
    "\n",
    "def s1(inp):\n",
    "    '''\n",
    "    s1Arr =  [0x6c, 0xda, 0xc3, 0xe9, 0x4e, 0x9d, 0x0a, 0x3d,\n",
    "              0xb8, 0x36, 0xb4, 0x38, 0x13, 0x34, 0x0c, 0xd9,\n",
    "              0xbf, 0x74, 0x94, 0x8f, 0xb7, 0x9c, 0xe5, 0xdc,\n",
    "              0x9e, 0x07, 0x49, 0x4f, 0x98, 0x2c, 0xb0, 0x93,\n",
    "              0x12, 0xeb, 0xcd, 0xb3, 0x92, 0xe7, 0x41, 0x60,\n",
    "              0xe3, 0x21, 0x27, 0x3b, 0xe6, 0x19, 0xd2, 0x0e,\n",
    "              0x91, 0x11, 0xc7, 0x3f, 0x2a, 0x8e, 0xa1, 0xbc,\n",
    "              0x2b, 0xc8, 0xc5, 0x0f, 0x5b, 0xf3, 0x87, 0x8b,\n",
    "              0xfb, 0xf5, 0xde, 0x20, 0xc6, 0xa7, 0x84, 0xce,\n",
    "              0xd8, 0x65, 0x51, 0xc9, 0xa4, 0xef, 0x43, 0x53,\n",
    "              0x25, 0x5d, 0x9b, 0x31, 0xe8, 0x3e, 0x0d, 0xd7,\n",
    "              0x80, 0xff, 0x69, 0x8a, 0xba, 0x0b, 0x73, 0x5c,\n",
    "              0x6e, 0x54, 0x15, 0x62, 0xf6, 0x35, 0x30, 0x52,\n",
    "              0xa3, 0x16, 0xd3, 0x28, 0x32, 0xfa, 0xaa, 0x5e,\n",
    "              0xcf, 0xea, 0xed, 0x78, 0x33, 0x58, 0x09, 0x7b,\n",
    "              0x63, 0xc0, 0xc1, 0x46, 0x1e, 0xdf, 0xa9, 0x99,\n",
    "              0x55, 0x04, 0xc4, 0x86, 0x39, 0x77, 0x82, 0xec,\n",
    "              0x40, 0x18, 0x90, 0x97, 0x59, 0xdd, 0x83, 0x1f,\n",
    "              0x9a, 0x37, 0x06, 0x24, 0x64, 0x7c, 0xa5, 0x56,\n",
    "              0x48, 0x08, 0x85, 0xd0, 0x61, 0x26, 0xca, 0x6f,\n",
    "              0x7e, 0x6a, 0xb6, 0x71, 0xa0, 0x70, 0x05, 0xd1,\n",
    "              0x45, 0x8c, 0x23, 0x1c, 0xf0, 0xee, 0x89, 0xad,\n",
    "              0x7a, 0x4b, 0xc2, 0x2f, 0xdb, 0x5a, 0x4d, 0x76,\n",
    "              0x67, 0x17, 0x2d, 0xf4, 0xcb, 0xb1, 0x4a, 0xa8,\n",
    "              0xb5, 0x22, 0x47, 0x3a, 0xd5, 0x10, 0x4c, 0x72,\n",
    "              0xcc, 0x00, 0xf9, 0xe0, 0xfd, 0xe2, 0xfe, 0xae,\n",
    "              0xf8, 0x5f, 0xab, 0xf1, 0x1b, 0x42, 0x81, 0xd6,\n",
    "              0xbe, 0x44, 0x29, 0xa6, 0x57, 0xb9, 0xaf, 0xf2,\n",
    "              0xd4, 0x75, 0x66, 0xbb, 0x68, 0x9f, 0x50, 0x02,\n",
    "              0x01, 0x3c, 0x7f, 0x8d, 0x1a, 0x88, 0xbd, 0xac,\n",
    "              0xf7, 0xe4, 0x79, 0x96, 0xa2, 0xfc, 0x6d, 0xb2,\n",
    "              0x6b, 0x03, 0xe1, 0x2e, 0x7d, 0x14, 0x95, 0x1d]\n",
    "    '''\n",
    "    return s1Arr[inp]\n",
    "\n",
    "def intermediate_0(pt_byte, key_byte):\n",
    "    return s0(pt_byte ^ key_byte)\n",
    "\n",
    "def intermediate_xor(pt_byte, wk_byte):\n",
    "    return pt_byte ^ wk_byte\n",
    "\n",
    "def intermediate_1(pt_byte, key_byte):\n",
    "    return s1(pt_byte ^ key_byte)\n",
    "\n",
    "# array holding HW of all 8-bit integers\n",
    "HW = [ bin(n).count(\"1\") for n in range(0, 256) ]"
   ]
  },
  {
   "cell_type": "code",
   "execution_count": 66,
   "metadata": {},
   "outputs": [
    {
     "name": "stdout",
     "output_type": "stream",
     "text": [
      "12000\n"
     ]
    }
   ],
   "source": [
    "keyGuess = []\n",
    "guessTop5 = []\n",
    "confScore = []\n",
    "totTraces, numPoints = powerTrace.shape\n",
    "alpha = 1.0\n",
    "activeTraces = int(alpha * totTraces)\n",
    "print(activeTraces)\n",
    "\n",
    "# region to track in the power trace for artefacts from the 1st round\n",
    "startPoint = 0\n",
    "#winSize = 1000\n",
    "#winStride = 1800\n",
    "endPoint = 400\n",
    "'''\n",
    "Bytes 0, 1, 2, 3:\n",
    "StartPoint = 800\n",
    "EndPoint = 1000 \n",
    "\n",
    "Bytes 4-7, c-f:\n",
    "Somewhere in the beginning?\n",
    "\n",
    "Bytes 8, 9, a, b:\n",
    "StartPoint = 1100\n",
    "EndPoint = 1400?\n",
    "'''\n",
    "HWmatrix = np.zeros((totTraces, 256), dtype= np.uint8)\n",
    "corrScore = np.zeros((16, 256, numPoints))"
   ]
  },
  {
   "cell_type": "code",
   "execution_count": null,
   "metadata": {},
   "outputs": [
    {
     "name": "stderr",
     "output_type": "stream",
     "text": [
      "100%|█████████████████████████████████████████████████████████████████████████████████| 256/256 [01:42<00:00,  2.50it/s]\n"
     ]
    },
    {
     "name": "stdout",
     "output_type": "stream",
     "text": [
      "[(12, array([ 94, 177,  78,   0, 255]), array([0.00569633, 0.00727729, 0.00727729, 0.00741523, 0.00741523]))]\n",
      "[382 382 382 214 214]\n",
      "Confidence Score:  [1.0] Key Guesses:  [255]\n"
     ]
    },
    {
     "name": "stderr",
     "output_type": "stream",
     "text": [
      "100%|████████████████████████████████████████████████████████████████████████████████▋| 255/256 [02:30<00:00,  1.68it/s]"
     ]
    }
   ],
   "source": [
    "#for i in range(0, 16):\n",
    "for i in range(12, 16):\n",
    "    for keyByte in tqdm(range(0, 256)):\n",
    "        for traceNum in range(activeTraces):\n",
    "            if (i < 4):\n",
    "                if (i % 2 == 0):\n",
    "                    interVal = intermediate_0(textInp[traceNum, i], keyByte)\n",
    "                else:\n",
    "                    interVal = intermediate_1(textInp[traceNum, i], keyByte)\n",
    "            elif (i >= 8 and i < 12):\n",
    "                if (i % 2 == 0):\n",
    "                    interVal = intermediate_1(textInp[traceNum, i], keyByte)\n",
    "                else:\n",
    "                    interVal = intermediate_0(textInp[traceNum, i], keyByte)\n",
    "            else:\n",
    "                interVal = intermediate_xor(textInp[traceNum, i], keyByte)\n",
    "            HWmatrix[traceNum, keyByte] = HW[interVal]\n",
    "       \n",
    "        #for tracePoint in range(startPoint + i*winStride, startPoint + i*winStride + winSize):\n",
    "        hwvec = HWmatrix[:activeTraces, keyByte]\n",
    "        pTrace = powerTrace[:activeTraces, startPoint:endPoint]\n",
    "        corrScore[i, keyByte, startPoint:endPoint] = [np.abs(linregress(hwvec, pTrace[:, point]).slope) \\\n",
    "                                                      for point in range(endPoint - startPoint)]\n",
    "        '''\n",
    "        for tracePoint in range(startPoint, endPoint):\n",
    "            hwvec = HWmatrix[:activeTraces, keyByte]\n",
    "            pTrace = powerTrace[:activeTraces, tracePoint]\n",
    "            corrScore[i, keyByte, tracePoint] = np.abs(linregress(hwvec, pTrace).slope)\n",
    "        '''\n",
    "        \n",
    "    maxScoreVec = corrScore[i].max(axis=1)    #maxScore across tracePoints for each guess\n",
    "    top5idx = maxScoreVec.argsort()[-5:]\n",
    "    confScore.append(maxScoreVec[top5idx][-1] / maxScoreVec[top5idx][-2])\n",
    "    guessTop5.append((i, top5idx, maxScoreVec[top5idx]))\n",
    "    keyGuess.append(top5idx[-1])\n",
    "    print(guessTop5)\n",
    "    print(corrScore[i].argmax(axis=1)[top5idx])\n",
    "    print(\"Confidence Score: \", confScore, \"Key Guesses: \", keyGuess)\n",
    "            \n",
    "# Attack bytes 4-7\n",
    "\n",
    "# Attack bytes 8-11\n",
    "\n",
    "# Attack bytes 12-15"
   ]
  },
  {
   "cell_type": "code",
   "execution_count": 1,
   "metadata": {},
   "outputs": [],
   "source": [
    "'''\n",
    "\n",
    "def f0(inp):\n",
    "    \n",
    "    tf00 = np.load(path_to_data+\"tf00.npy\", \"r\")\n",
    "    tf01 = np.load(path_to_data+\"tf01.npy\", \"r\")\n",
    "    tf02 = np.load(path_to_data+\"tf02.npy\", \"r\")\n",
    "    tf03 = np.load(path_to_data+\"tf03.npy\", \"r\")\n",
    "    \n",
    "    out = tf00[inp[0]] ^ tf01[inp[1]] ^ tf02[inp[2]] ^ tf03[inp[3]]\n",
    "    return out\n",
    "\n",
    "def f1(inp):\n",
    "    \n",
    "    tf10 = np.load(path_to_data+\"tf10.npy\", \"r\")\n",
    "    tf11 = np.load(path_to_data+\"tf11.npy\", \"r\")\n",
    "    tf12 = np.load(path_to_data+\"tf12.npy\", \"r\")\n",
    "    tf13 = np.load(path_to_data+\"tf13.npy\", \"r\")\n",
    "    \n",
    "    out = tf10[inp[0]] ^ tf11[inp[1]] ^ tf12[inp[2]] ^ tf13[inp[3]]\n",
    "    return out\n",
    "\n",
    "def intermediate(pt, rk0, rk1, wk0, wk1):\n",
    "    # Assumption: pt is an array of 32-bit integers with 4 elements; rk's and wk's are 32-b ints\n",
    "        \n",
    "    # Ensure correct bit-width match!\n",
    "    out0 = f0(rk0 ^ pt[0])\n",
    "    out1 = pt[1] ^ wk0\n",
    "    out2 = f1(rk1 ^ pt[2])\n",
    "    out3 = pt[3] ^ wk1\n",
    "    out = [out0, out1, out2, out3]\n",
    "    return out\n",
    "\n",
    "'''"
   ]
  },
  {
   "cell_type": "code",
   "execution_count": null,
   "metadata": {},
   "outputs": [],
   "source": []
  }
 ],
 "metadata": {
  "kernelspec": {
   "display_name": "Python 3 (ipykernel)",
   "language": "python",
   "name": "python3"
  },
  "language_info": {
   "codemirror_mode": {
    "name": "ipython",
    "version": 3
   },
   "file_extension": ".py",
   "mimetype": "text/x-python",
   "name": "python",
   "nbconvert_exporter": "python",
   "pygments_lexer": "ipython3",
   "version": "3.9.7"
  },
  "vscode": {
   "interpreter": {
    "hash": "f0d48f290492e73820e0439ebf2aabd9af1121bf7abbadd11a691e3763c7d8b8"
   }
  }
 },
 "nbformat": 4,
 "nbformat_minor": 2
}
