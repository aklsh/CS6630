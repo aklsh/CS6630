{
 "cells": [
  {
   "cell_type": "markdown",
   "metadata": {},
   "source": [
    "## CLEFIA CPA Attack\n",
    "\n",
    "```\n",
    "Conduct Correlation Power Analysis attacks at the first, second and last rounds of CLEFIA-128 encryption. \n",
    "\n",
    "Authors: Arjun Menon V (ee18b104), Akilesh Kannan (ee18b122)\n",
    "```\n",
    "\n",
    "Assignment 2, Secure Processor Microarchitecture\n",
    "\n",
    "August 2022"
   ]
  },
  {
   "cell_type": "code",
   "execution_count": 1,
   "metadata": {},
   "outputs": [],
   "source": [
    "import numpy as np\n",
    "import matplotlib.pyplot as plt\n",
    "from tqdm import tqdm\n",
    "from tqdm.notebook import tnrange\n",
    "from scipy.stats import linregress\n",
    "import seaborn as sns\n",
    "import time\n",
    "import rich as r\n",
    "import pandas as pd\n",
    "from IPython.display import clear_output # type: ignore\n",
    "from bokeh.plotting import figure, show\n",
    "from bokeh.io import output_notebook\n",
    "from bokeh.palettes import brewer"
   ]
  },
  {
   "cell_type": "code",
   "execution_count": 3,
   "metadata": {},
   "outputs": [
    {
     "name": "stdout",
     "output_type": "stream",
     "text": [
      "(12000, 16)\n",
      "(12000, 18000)\n"
     ]
    }
   ],
   "source": [
    "# Load input and power trace\n",
    "textInp = np.load(\"../trace_002/textin_array.npy\", \"r\")\n",
    "powerTrace = np.load(\"../trace_002/trace_array.npy\", \"r\")\n",
    "cipherText = np.load(\"../trace_002/textout_array.npy\", \"r\")\n",
    "#\n",
    "s0Arr = np.load(\"../data/s0.npy\", \"r\")\n",
    "s1Arr = np.load(\"../data/s1.npy\", \"r\")\n",
    "#\n",
    "tf00Arr = np.load(\"../data/tf00.npy\", \"r\")\n",
    "tf01Arr = np.load(\"../data/tf01.npy\", \"r\")\n",
    "tf02Arr = np.load(\"../data/tf02.npy\", \"r\")\n",
    "tf03Arr = np.load(\"../data/tf03.npy\", \"r\")\n",
    "#\n",
    "tf10Arr = np.load(\"../data/tf10.npy\", \"r\")\n",
    "tf11Arr = np.load(\"../data/tf11.npy\", \"r\")\n",
    "tf12Arr = np.load(\"../data/tf12.npy\", \"r\")\n",
    "tf13Arr = np.load(\"../data/tf13.npy\", \"r\")\n",
    "\n",
    "print(textInp.shape)\n",
    "print(powerTrace.shape)"
   ]
  },
  {
   "cell_type": "code",
   "execution_count": 4,
   "metadata": {},
   "outputs": [],
   "source": [
    "# Split the 8 T-Tables into four, each holding a byte of the result. In all there are 32 T-Tables\n",
    "\n",
    "tf000Arr = np.array([val & 0xFF for val in tf00Arr])\n",
    "tf001Arr = np.array([(val & 0xFF00)>>8 for val in tf00Arr])\n",
    "tf002Arr = np.array([(val & 0xFF0000)>>16 for val in tf00Arr])\n",
    "tf003Arr = np.array([(val & 0xFF000000)>>24 for val in tf00Arr])\n",
    "\n",
    "tf010Arr = np.array([val & 0xFF for val in tf01Arr])\n",
    "tf011Arr = np.array([(val & 0xFF00)>>8 for val in tf01Arr])\n",
    "tf012Arr = np.array([(val & 0xFF0000)>>16 for val in tf01Arr])\n",
    "tf013Arr = np.array([(val & 0xFF000000)>>24 for val in tf01Arr])\n",
    "\n",
    "tf020Arr = np.array([val & 0xFF for val in tf02Arr])\n",
    "tf021Arr = np.array([(val & 0xFF00)>>8 for val in tf02Arr])\n",
    "tf022Arr = np.array([(val & 0xFF0000)>>16 for val in tf02Arr])\n",
    "tf023Arr = np.array([(val & 0xFF000000)>>24 for val in tf02Arr])\n",
    "\n",
    "tf030Arr = np.array([val & 0xFF for val in tf03Arr])\n",
    "tf031Arr = np.array([(val & 0xFF00)>>8 for val in tf03Arr])\n",
    "tf032Arr = np.array([(val & 0xFF0000)>>16 for val in tf03Arr])\n",
    "tf033Arr = np.array([(val & 0xFF000000)>>24 for val in tf03Arr])\n",
    "\n",
    "\n",
    "tf100Arr = np.array([val & 0xFF for val in tf10Arr])\n",
    "tf101Arr = np.array([(val & 0xFF00)>>8 for val in tf10Arr])\n",
    "tf102Arr = np.array([(val & 0xFF0000)>>16 for val in tf10Arr])\n",
    "tf103Arr = np.array([(val & 0xFF000000)>>24 for val in tf10Arr])\n",
    "\n",
    "tf110Arr = np.array([val & 0xFF for val in tf11Arr])\n",
    "tf111Arr = np.array([(val & 0xFF00)>>8 for val in tf11Arr])\n",
    "tf112Arr = np.array([(val & 0xFF0000)>>16 for val in tf11Arr])\n",
    "tf113Arr = np.array([(val & 0xFF000000)>>24 for val in tf11Arr])\n",
    "\n",
    "tf120Arr = np.array([val & 0xFF for val in tf12Arr])\n",
    "tf121Arr = np.array([(val & 0xFF00)>>8 for val in tf12Arr])\n",
    "tf122Arr = np.array([(val & 0xFF0000)>>16 for val in tf12Arr])\n",
    "tf123Arr = np.array([(val & 0xFF000000)>>24 for val in tf12Arr])\n",
    "\n",
    "tf130Arr = np.array([val & 0xFF for val in tf13Arr])\n",
    "tf131Arr = np.array([(val & 0xFF00)>>8 for val in tf13Arr])\n",
    "tf132Arr = np.array([(val & 0xFF0000)>>16 for val in tf13Arr])\n",
    "tf133Arr = np.array([(val & 0xFF000000)>>24 for val in tf13Arr])"
   ]
  },
  {
   "cell_type": "code",
   "execution_count": 51,
   "metadata": {},
   "outputs": [
    {
     "name": "stdout",
     "output_type": "stream",
     "text": [
      "[174 146 191 145  94 102 232 235  55 218  25 201  28 125  77  56  80 189\n",
      " 150  57 184 193  23 127 149  20 236 122 198 239  46  67  99  95  50 202\n",
      " 243 244 100  64  12 129 213  27  39 182 152 173 132 186  92 205 181  43\n",
      "  30  38 120  15 206 157 226  73 113 247  85  97 231   5  36   0  51 169\n",
      " 240 223 131 214 114 134 170  76  96  45 133 167 203 168 123   3 156  44\n",
      " 233  68  87 238  18 194 177  84 166 110 138 159 216  65 195 224  16  47\n",
      "  11  58 249 117 207 147  35 148  98  74 225 248 187  89 103 172  40  13\n",
      " 192  22 135 217 104 160  33 165  34  10  86 115  79 144 227 204   9 230\n",
      "   6 234  17 255 212  83 128 153 111  88 171  62 176  53 124 199 229  54\n",
      "  93   8 109   7 209 178 196  59 106 252 137  66 163 142  42 251 105 254\n",
      "  81 210 141 154  19 118  37   2 221 161  72 164 246  24 208  60  29 121\n",
      " 180 211  71 183  70 245 140 126  63 143 220  21 228 107  26  48 175  49\n",
      " 253 190 130  69  78 151 219 116  31 222  14  91 242 241  90 112  52 136\n",
      " 188 119 185 197 139  61  41 108 215  82 155 158  75 200 162 237  32 179\n",
      " 101   4 250   1]\n"
     ]
    }
   ],
   "source": [
    "# Visualize Power Trace:\n",
    "p = figure(plot_width=1000, plot_height=400)\n",
    "idx = np.random.randint(0, powerTrace.shape[0])\n",
    "p.line(range(0, len(powerTrace[idx])), powerTrace[idx])\n",
    "show(p)\n",
    "print(tf002Arr)"
   ]
  },
  {
   "cell_type": "markdown",
   "metadata": {},
   "source": [
    "### Where do you take the Intermediate Result?\n",
    "\n",
    "At this point, we have three choices on the location of the intermediate result:\n",
    "\n",
    "- Output of the SBox opertion, in the GFN4 network\n",
    "- Output of the T table, in the GFN4 network\n",
    "- Output of the F0/1 operation in the GFN4 network\n",
    "\n",
    "The output of each SBox is an 8-bit word, and hence we can perform key search with $2^8$ guesses for each of the 16 Bytes of the Key. On the contrary, the output of the F functions are 32-bits wide and the search space involves $2^{32}$ possibilities for each of the 4 Words of the key. \n",
    "\n",
    "However, if the implementation uses a look-up table for the entire F function, without evaluating the intermediate SBox result, the former attack scheme will not work as there won't be any correlation between the intermediate result and the power trace. Hence this is a weaker attack, despite having lower online complexity. \n",
    "\n",
    "**Approach:**\n",
    "\n",
    "- Try the SBox attack first and see if correlations are got with sufficient confidence\n",
    "- Repeat the attack using T table output as the intermediate result\n",
    "- Validate the results against the PT-CT pair provided\n",
    "- If the previous attack fails, try the F0/1 attack"
   ]
  },
  {
   "cell_type": "markdown",
   "metadata": {},
   "source": [
    "### CPA at the SBox Output\n",
    "\n",
    "**First Round of CLEFIA:**\n",
    "\n",
    "PT = P0 | P1 | P2 | P3\n",
    "\n",
    "T => P0 | P1 ^ WK0 | P2 | P3 ^ WK1\n",
    "\n",
    "T => P0 ^ RK0 | P1 ^ WK0 | P2 ^ RK1 | P3 ^ WK1\n",
    "\n",
    "T => S0(P0 ^ RK0) | P1 ^ WK0 | S1(P2 ^ RK1) | P3 ^ WK1  ---> Intermediate Result\n",
    "\n",
    "P0 ^ RK0 sent to S0 function and P2 ^ RK1 to S1 bytewise, and the HW of the results are correlated against the power trace. To find WK's, the intermediate result used is $P_{2i + 1}$ ^ $WK_i$\n",
    "\n",
    "**Last Round of CLEFIA:**\n",
    "\n",
    "**Second Round of CLEFIA:**"
   ]
  },
  {
   "cell_type": "code",
   "execution_count": 19,
   "metadata": {},
   "outputs": [],
   "source": [
    "def s0(inp):\n",
    "    return s0Arr[inp]\n",
    "def s1(inp):\n",
    "    return s1Arr[inp]\n",
    "\n",
    "def tf00(inp):\n",
    "    return tf00Arr[inp]\n",
    "def tf01(inp):\n",
    "    return tf01Arr[inp]\n",
    "def tf02(inp):\n",
    "    return tf02Arr[inp]\n",
    "def tf03(inp):\n",
    "    return tf03Arr[inp]\n",
    "\n",
    "def tf10(inp):\n",
    "    return tf10Arr[inp]\n",
    "def tf11(inp):\n",
    "    return tf11Arr[inp]\n",
    "def tf12(inp):\n",
    "    return tf12Arr[inp]\n",
    "def tf13(inp):\n",
    "    return tf13Arr[inp]\n",
    "\n",
    "def f0(inpBytes, keyBytes):\n",
    "    return tf00(inpBytes[0] ^ keyBytes[0]) ^ tf01(inpBytes[1] ^ keyBytes[1]) ^ tf02(inpBytes[2] ^ keyBytes[2]) ^ tf03(inpBytes[3] ^ keyBytes[3])\n",
    "def f1(inpBytes, keyBytes):\n",
    "    return tf10(inpBytes[0] ^ keyBytes[0]) ^ tf11(inpBytes[1] ^ keyBytes[1]) ^ tf12(inpBytes[2] ^ keyBytes[2]) ^ tf13(inpBytes[3] ^ keyBytes[3])\n",
    "\n",
    "def intermediate_0(pt_byte, wk_byte):\n",
    "    return s0(pt_byte ^ wk_byte)\n",
    "def intermediate_1(pt_byte, wk_byte):\n",
    "    return s1(pt_byte ^ wk_byte)\n",
    "def intermediate_xor(pt_byte, wk_byte):\n",
    "    return pt_byte ^ wk_byte\n",
    "\n",
    "def intermediate_00(pt_byte, key_byte):\n",
    "    return tf000Arr[pt_byte ^ key_byte] ^ tf010Arr[pt_byte ^ key_byte] ^ tf020Arr[pt_byte ^ key_byte] ^ tf030Arr[pt_byte ^ key_byte]\n",
    "def intermediate_01(pt_byte, key_byte):\n",
    "    return tf001Arr[pt_byte ^ key_byte] ^ tf011Arr[pt_byte ^ key_byte] ^ tf021Arr[pt_byte ^ key_byte] ^ tf031Arr[pt_byte ^ key_byte]\n",
    "def intermediate_02(pt_byte, key_byte):\n",
    "    return tf002Arr[pt_byte ^ key_byte] ^ tf012Arr[pt_byte ^ key_byte] ^ tf022Arr[pt_byte ^ key_byte] ^ tf032Arr[pt_byte ^ key_byte]\n",
    "def intermediate_03(pt_byte, key_byte):\n",
    "    return tf003Arr[pt_byte ^ key_byte] ^ tf013Arr[pt_byte ^ key_byte] ^ tf023Arr[pt_byte ^ key_byte] ^ tf033Arr[pt_byte ^ key_byte]\n",
    "\n",
    "def intermediate_10(pt_byte, key_byte):\n",
    "    return tf10(pt_byte ^ key_byte)\n",
    "def intermediate_11(pt_byte, key_byte):\n",
    "    return tf11(pt_byte ^ key_byte)\n",
    "def intermediate_12(pt_byte, key_byte):\n",
    "    return tf12(pt_byte ^ key_byte)\n",
    "def intermediate_13(pt_byte, key_byte):\n",
    "    return tf13(pt_byte ^ key_byte)\n",
    "\n",
    "# array holding HW of all 8-bit integers\n",
    "HW = [ bin(n).count(\"1\") for n in range(0, 256) ]"
   ]
  },
  {
   "cell_type": "code",
   "execution_count": 35,
   "metadata": {},
   "outputs": [
    {
     "name": "stdout",
     "output_type": "stream",
     "text": [
      "12000\n"
     ]
    }
   ],
   "source": [
    "guessTop5 = []\n",
    "confScore = []\n",
    "totTraces, numPoints = powerTrace.shape\n",
    "alpha = 1.0\n",
    "activeTraces = int(alpha * totTraces)\n",
    "print(activeTraces)\n",
    "\n",
    "attackType = \"first\"\n",
    "startPoint = [800, 500, 1100, 15700, 16200, 16000]   # ['RK0', 'WK0/1', 'RK1', 'RK34', 'WK2/3', '']\n",
    "endPoint = [1000, 700, 1300, 15900, 16800, 16200]\n",
    "\n",
    "if (attackType == \"first\"):\n",
    "    textArr = textInp\n",
    "    offset = 0\n",
    "elif (attackType == \"last\"):\n",
    "    textArr = cipherText\n",
    "    offset = 3\n",
    "\n",
    "HWmatrix = np.zeros((totTraces, 256), dtype= np.uint8)\n",
    "corrScore = np.zeros((16, 256, numPoints))\n",
    "printable = []    # for printing the top guessed keys"
   ]
  },
  {
   "cell_type": "code",
   "execution_count": 36,
   "metadata": {},
   "outputs": [],
   "source": [
    "fmt = \"{:02X}<br>{:.3f}\"\n",
    "def format_stat(stat):\n",
    "    return str(fmt.format(stat[0], stat[1]))\n",
    "\n",
    "def color_corr_key(row):\n",
    "    # print(len(row))\n",
    "    ret = [\"\"] * len(row)\n",
    "    for i, bnum in enumerate(row):\n",
    "        if i == 0:\n",
    "            ret[i] = \"color: green\"\n",
    "        else:\n",
    "            ret[i] = \"color: red\"\n",
    "    return ret"
   ]
  },
  {
   "cell_type": "code",
   "execution_count": 37,
   "metadata": {},
   "outputs": [
    {
     "data": {
      "text/plain": [
       "[('Byte Number: 0',\n",
       "  'Top-5 Indices: [ 96 164 144 211 147]',\n",
       "  'Top-5 Corr Scores: [0.00156519 0.00172567 0.00191246 0.00221018 0.00593054]'),\n",
       " ('Byte Number: 1',\n",
       "  'Top-5 Indices: [226 109 209   2 125]',\n",
       "  'Top-5 Corr Scores: [0.0028281  0.00291201 0.00291674 0.00367029 0.01201779]'),\n",
       " ('Byte Number: 2',\n",
       "  'Top-5 Indices: [ 51 187 143 195 184]',\n",
       "  'Top-5 Corr Scores: [0.00161766 0.00176028 0.00178389 0.00182456 0.00509455]'),\n",
       " ('Byte Number: 3',\n",
       "  'Top-5 Indices: [ 81 228 125  61 242]',\n",
       "  'Top-5 Corr Scores: [0.00277314 0.002811   0.00290774 0.00321601 0.0052563 ]')]"
      ]
     },
     "metadata": {},
     "output_type": "display_data"
    },
    {
     "data": {
      "text/plain": [
       "'Top-5 correlations at points: [831 831 831 831 831]'"
      ]
     },
     "metadata": {},
     "output_type": "display_data"
    },
    {
     "data": {
      "text/plain": [
       "'Confidence Score: [2.6832811159025445, 3.2743425399705566, 2.7922086578289522, 1.6344183325076411]'"
      ]
     },
     "metadata": {},
     "output_type": "display_data"
    },
    {
     "data": {
      "text/plain": [
       "'Key Guesses: [147, 125, 184, 242]'"
      ]
     },
     "metadata": {},
     "output_type": "display_data"
    }
   ],
   "source": [
    "# Infer RK0/RK34:\n",
    "# region to track in the power trace for artefacts from the 1st round\n",
    "\n",
    "'''\n",
    "Bytes 0, 1, 2, 3:\n",
    "StartPoint = 800\n",
    "EndPoint = 1000 \n",
    "\n",
    "Bytes 4-7, c-f:\n",
    "StartPoint = 400\n",
    "EndPoint = 800 \n",
    "\n",
    "Bytes 8, 9, a, b:\n",
    "StartPoint = 1100\n",
    "EndPoint = 1400?\n",
    "'''\n",
    "keyGuess = []\n",
    "guessTop5 = []\n",
    "confScore = []\n",
    "\n",
    "for i in tnrange(0, 4, desc=\"Attacking RK0/RK34\"):\n",
    "    temp = []\n",
    "    for keyByte in tnrange(0, 256, desc=\"Generating Hamming Weights\"):\n",
    "        for traceNum in range(activeTraces):\n",
    "            if (i % 2 == 0):\n",
    "                interVal = intermediate_0(textArr[traceNum, i], keyByte)\n",
    "            else:\n",
    "                interVal = intermediate_1(textArr[traceNum, i], keyByte)            \n",
    "            \n",
    "            HWmatrix[traceNum, keyByte] = bin(interVal).count(\"1\")\n",
    "\n",
    "        for point in range(startPoint[offset], endPoint[offset]):\n",
    "            hw = HWmatrix[:activeTraces, keyByte]\n",
    "            trc = powerTrace[:activeTraces, point]\n",
    "            corrScore[i, keyByte, point] = np.abs(linregress(hw, trc).slope)\n",
    "        temp.append((keyByte, np.max(corrScore[i, keyByte])))\n",
    "\n",
    "    maxScoreVec = corrScore[i].max(axis=1)    # maxScore across tracePoints for each guess\n",
    "    top5idx = maxScoreVec.argsort()[-5:]\n",
    "    confScore.append(maxScoreVec[top5idx][-1] / maxScoreVec[top5idx][-2])\n",
    "    guessTop5.append((\"Byte Number: {}\".format(i), \"Top-5 Indices: {}\".format(top5idx), \"Top-5 Corr Scores: {}\".format(maxScoreVec[top5idx])))\n",
    "    keyGuess.append(top5idx[-1])\n",
    "    \n",
    "    clear_output(wait=True)  # clear the previous output\n",
    "    display(guessTop5)\n",
    "    display(\"Top-5 correlations for Byte {} at points: {}\".format(i, corrScore[i].argmax(axis=1)[top5idx]))\n",
    "    display(\"Confidence Score: {}\".format(confScore), \"Key Guesses: {}\".format(keyGuess))\n",
    "        \n",
    "#    temp.sort(key = lambda x: -x[1])  # sort temp by dom value\n",
    "#    printable.append(temp)  # add the data in list\n",
    "#    df = pd.DataFrame(printable).transpose()\n",
    "\n",
    "#    keyGuess.append(corrScore[i].max(axis=1).argmax())\n",
    "\n",
    "#    clear_output(wait=True)  # clear the previous output\n",
    "#    display(df.head().style.format(format_stat).apply(color_corr_key, axis=0))  # display the current status\n",
    "\n",
    "# if (attackType == \"first\"):\n",
    "#     fileName = \"../data/keys/RK0\"\n",
    "# else:\n",
    "#     fileName = \"../data/keys/RK34\"\n",
    "# np.save(fileName, keyGuess)"
   ]
  },
  {
   "cell_type": "code",
   "execution_count": 38,
   "metadata": {},
   "outputs": [
    {
     "data": {
      "text/plain": [
       "[('Byte Number: 0',\n",
       "  'Top-5 Indices: [ 96 164 144 211 147]',\n",
       "  'Top-5 Corr Scores: [0.00156519 0.00172567 0.00191246 0.00221018 0.00593054]'),\n",
       " ('Byte Number: 1',\n",
       "  'Top-5 Indices: [226 109 209   2 125]',\n",
       "  'Top-5 Corr Scores: [0.0028281  0.00291201 0.00291674 0.00367029 0.01201779]'),\n",
       " ('Byte Number: 2',\n",
       "  'Top-5 Indices: [ 51 187 143 195 184]',\n",
       "  'Top-5 Corr Scores: [0.00161766 0.00176028 0.00178389 0.00182456 0.00509455]'),\n",
       " ('Byte Number: 3',\n",
       "  'Top-5 Indices: [ 81 228 125  61 242]',\n",
       "  'Top-5 Corr Scores: [0.00277314 0.002811   0.00290774 0.00321601 0.0052563 ]'),\n",
       " ('Byte Number: 4',\n",
       "  'Top-5 Indices: [200  35 220 204  51]',\n",
       "  'Top-5 Corr Scores: [0.00613454 0.00617584 0.00617584 0.00791717 0.00791717]'),\n",
       " ('Byte Number: 5',\n",
       "  'Top-5 Indices: [101 130 125 138 117]',\n",
       "  'Top-5 Corr Scores: [0.00664405 0.0066579  0.0066579  0.0086361  0.0086361 ]'),\n",
       " ('Byte Number: 6',\n",
       "  'Top-5 Indices: [ 63  57 198  59 196]',\n",
       "  'Top-5 Corr Scores: [0.00633597 0.00661258 0.00661258 0.00812255 0.00812255]'),\n",
       " ('Byte Number: 7',\n",
       "  'Top-5 Indices: [144 105 150 148 107]',\n",
       "  'Top-5 Corr Scores: [0.00611689 0.00652662 0.00652662 0.00809463 0.00809463]')]"
      ]
     },
     "metadata": {},
     "output_type": "display_data"
    },
    {
     "data": {
      "text/plain": [
       "'Top-5 correlations for Byte 7 at points: [572 572 572 572 572]'"
      ]
     },
     "metadata": {},
     "output_type": "display_data"
    },
    {
     "data": {
      "text/plain": [
       "'Confidence Score: [2.6832811159025445, 3.2743425399705566, 2.7922086578289522, 1.6344183325076411, 1.2819587150576481, 1.2971201926263454, 1.2283469838359002, 1.2402491640776114]'"
      ]
     },
     "metadata": {},
     "output_type": "display_data"
    },
    {
     "data": {
      "text/plain": [
       "'Key Guesses: [51, 117, 196, 107]'"
      ]
     },
     "metadata": {},
     "output_type": "display_data"
    }
   ],
   "source": [
    "# Infer WK0/1 or WK2/3:\n",
    "# region to track in the power trace for artefacts from the 1st round\n",
    "'''\n",
    "Bytes 4-7, c-f:\n",
    "StartPoint = 400\n",
    "EndPoint = 800 \n",
    "'''\n",
    "keyGuess = []\n",
    "guessTop5 = []\n",
    "confScore = []\n",
    "\n",
    "for i in tnrange(4, 8, desc=\"Attacking WK0/WK2\"):\n",
    "    for keyByte in tnrange(0, 256, desc=\"Generating Hamming Weights\"):\n",
    "        for traceNum in range(activeTraces):\n",
    "            interVal = intermediate_xor(textArr[traceNum, i], keyByte)\n",
    "            HWmatrix[traceNum, keyByte] = HW[interVal]\n",
    "       \n",
    "        hwvec = HWmatrix[:activeTraces, keyByte]\n",
    "        pTrace = powerTrace[:activeTraces, startPoint[offset+1]:endPoint[offset+1]]\n",
    "        corrScore[i, keyByte, startPoint[offset+1]:endPoint[offset+1]] = [np.abs(linregress(hwvec, pTrace[:, point]).slope) \\\n",
    "                                                      for point in range(endPoint[offset+1] - startPoint[offset+1])]\n",
    "        \n",
    "    maxScoreVec = corrScore[i].max(axis=1)    #maxScore across tracePoints for each guess\n",
    "    top5idx = maxScoreVec.argsort()[-5:]\n",
    "    confScore.append(maxScoreVec[top5idx][-1] / maxScoreVec[top5idx][-3])  # top-2 guesses are 1's complements of each other\n",
    "    guessTop5.append((\"Byte Number: {}\".format(i), \"Top-5 Indices: {}\".format(top5idx), \"Top-5 Corr Scores: {}\".format(maxScoreVec[top5idx])))\n",
    "    keyGuess.append(top5idx[-1])\n",
    "    \n",
    "    clear_output(wait=True)  # clear the previous output\n",
    "    display(guessTop5)\n",
    "    display(\"Top-5 correlations for Byte {} at points: {}\".format(i, corrScore[i].argmax(axis=1)[top5idx]))\n",
    "    display(\"Confidence Score: {}\".format(confScore), \"Key Guesses: {}\".format(keyGuess))\n",
    "    \n",
    "#if (attackType == \"first\"):\n",
    "#    fileName = \"../data/keys/WK0_probable\"\n",
    "#else:\n",
    "#    fileName = \"../data/keys/WK2_probable\"\n",
    "#np.save(fileName, keyGuess)"
   ]
  },
  {
   "cell_type": "code",
   "execution_count": 41,
   "metadata": {},
   "outputs": [
    {
     "data": {
      "text/plain": [
       "[('Byte Number: 8',\n",
       "  'Top-5 Indices: [ 95  47 159  63 110]',\n",
       "  'Top-5 Corr Scores: [0.0030019  0.00327104 0.00336725 0.00348923 0.00427766]'),\n",
       " ('Byte Number: 9',\n",
       "  'Top-5 Indices: [ 87  89 141 120  90]',\n",
       "  'Top-5 Corr Scores: [0.00262169 0.00281244 0.00287847 0.00351882 0.01206471]'),\n",
       " ('Byte Number: 10',\n",
       "  'Top-5 Indices: [199 214 169 255  37]',\n",
       "  'Top-5 Corr Scores: [0.00338978 0.00339113 0.00340031 0.00343701 0.00399537]'),\n",
       " ('Byte Number: 11',\n",
       "  'Top-5 Indices: [169  92 161 157 172]',\n",
       "  'Top-5 Corr Scores: [0.00191771 0.00200447 0.00200801 0.00263395 0.00579721]')]"
      ]
     },
     "metadata": {},
     "output_type": "display_data"
    },
    {
     "data": {
      "text/plain": [
       "'Top-5 correlations for Byte 11 at points: [1143 1143 1143 1143 1142]'"
      ]
     },
     "metadata": {},
     "output_type": "display_data"
    },
    {
     "data": {
      "text/plain": [
       "'Confidence Score: [1.2259614798089808, 3.428620931017007, 1.1624564586501966, 2.200953823083112]'"
      ]
     },
     "metadata": {},
     "output_type": "display_data"
    },
    {
     "data": {
      "text/plain": [
       "'Key Guesses: [110, 90, 37, 172]'"
      ]
     },
     "metadata": {},
     "output_type": "display_data"
    }
   ],
   "source": [
    "# Infer RK1\n",
    "# region to track in the power trace for artefacts from the 1st round\n",
    "'''\n",
    "Bytes 8, 9, a, b:\n",
    "StartPoint = 1100\n",
    "EndPoint = 1400 \n",
    "'''\n",
    "keyGuess = []\n",
    "guessTop5 = []\n",
    "confScore = []\n",
    "\n",
    "for i in tnrange(8, 12, desc=\"Attacking RK1/RK35\"):\n",
    "    for keyByte in tnrange(0, 256, desc=\"Generating Hamming Weights\"):\n",
    "        for traceNum in range(activeTraces):\n",
    "            if (i % 2 == 0):\n",
    "                interVal = intermediate_1(textArr[traceNum, i], keyByte)\n",
    "            else:\n",
    "                interVal = intermediate_0(textArr[traceNum, i], keyByte)            \n",
    "            HWmatrix[traceNum, keyByte] = HW[interVal]\n",
    "        \n",
    "        hwvec = HWmatrix[:activeTraces, keyByte]\n",
    "        pTrace = powerTrace[:activeTraces, startPoint[offset+2]:endPoint[offset+2]]\n",
    "        corrScore[i, keyByte, startPoint[offset+2]:endPoint[offset+2]] = [np.abs(linregress(hwvec, pTrace[:, point]).slope) \\\n",
    "                                                      for point in range(endPoint[offset+2] - startPoint[offset+2])]\n",
    "        \n",
    "    maxScoreVec = corrScore[i].max(axis=1)    #maxScore across tracePoints for each guess\n",
    "    top5idx = maxScoreVec.argsort()[-5:]\n",
    "    confScore.append(maxScoreVec[top5idx][-1] / maxScoreVec[top5idx][-2])\n",
    "    guessTop5.append((\"Byte Number: {}\".format(i), \"Top-5 Indices: {}\".format(top5idx), \"Top-5 Corr Scores: {}\".format(maxScoreVec[top5idx])))\n",
    "    keyGuess.append(top5idx[-1])\n",
    "    \n",
    "    clear_output(wait=True)  # clear the previous output\n",
    "    display(guessTop5)\n",
    "    display(\"Top-5 correlations for Byte {} at points: {}\".format(i, corrScore[i].argmax(axis=1)[top5idx]))\n",
    "    display(\"Confidence Score: {}\".format(confScore), \"Key Guesses: {}\".format(keyGuess))\n",
    "   \n",
    "#if (attackType == \"first\"):\n",
    "#    fileName = \"../data/keys/RK1\"\n",
    "#else:\n",
    "#    fileName = \"../data/keys/RK35\"\n",
    "#np.save(fileName, keyGuess)"
   ]
  },
  {
   "cell_type": "code",
   "execution_count": 42,
   "metadata": {},
   "outputs": [
    {
     "data": {
      "text/plain": [
       "[('Byte Number: 12',\n",
       "  'Top-5 Indices: [ 74  94 161 177  78]',\n",
       "  'Top-5 Corr Scores: [0.00612247 0.00615629 0.00615629 0.00786305 0.00786305]'),\n",
       " ('Byte Number: 13',\n",
       "  'Top-5 Indices: [230  21 234 238  17]',\n",
       "  'Top-5 Corr Scores: [0.00669014 0.00675352 0.00675352 0.0085709  0.0085709 ]'),\n",
       " ('Byte Number: 14',\n",
       "  'Top-5 Indices: [103 158  97 156  99]',\n",
       "  'Top-5 Corr Scores: [0.00625847 0.00645421 0.00645421 0.00808064 0.00808064]'),\n",
       " ('Byte Number: 15',\n",
       "  'Top-5 Indices: [207  54 201  52 203]',\n",
       "  'Top-5 Corr Scores: [0.00607846 0.00644057 0.00644057 0.00789676 0.00789676]')]"
      ]
     },
     "metadata": {},
     "output_type": "display_data"
    },
    {
     "data": {
      "text/plain": [
       "'Top-5 correlations for Byte 15 at points: [676 676 676 676 676]'"
      ]
     },
     "metadata": {},
     "output_type": "display_data"
    },
    {
     "data": {
      "text/plain": [
       "'Confidence Score: [1.2772384648240718, 1.269102344646559, 1.2519956602085116, 1.2260964368757923]'"
      ]
     },
     "metadata": {},
     "output_type": "display_data"
    },
    {
     "data": {
      "text/plain": [
       "'Key Guesses: [78, 17, 99, 203]'"
      ]
     },
     "metadata": {},
     "output_type": "display_data"
    }
   ],
   "source": [
    "# Infer WK1:\n",
    "# region to track in the power trace for artefacts from the 1st round\n",
    "'''\n",
    "Bytes 4-7, c-f:\n",
    "StartPoint = 400\n",
    "EndPoint = 800 \n",
    "'''\n",
    "keyGuess = []\n",
    "guessTop5 = []\n",
    "confScore = []\n",
    "\n",
    "\n",
    "for i in tnrange(12, 16, desc=\"Attacking WK1/WK3\"):\n",
    "    for keyByte in tnrange(0, 256, desc=\"Generating Hamming Weights\"):\n",
    "        for traceNum in range(activeTraces):\n",
    "            interVal = intermediate_xor(textArr[traceNum, i], keyByte)\n",
    "            HWmatrix[traceNum, keyByte] = HW[interVal]\n",
    "       \n",
    "        hwvec = HWmatrix[:activeTraces, keyByte]\n",
    "        pTrace = powerTrace[:activeTraces, startPoint[offset+1]:endPoint[offset+1]]\n",
    "        corrScore[i, keyByte, startPoint[offset+1]:endPoint[offset+1]] = [np.abs(linregress(hwvec, pTrace[:, point]).slope) \\\n",
    "                                                      for point in range(endPoint[offset+1] - startPoint[offset+1])]\n",
    "        \n",
    "    maxScoreVec = corrScore[i].max(axis=1)    #maxScore across tracePoints for each guess\n",
    "    top5idx = maxScoreVec.argsort()[-5:]\n",
    "    confScore.append(maxScoreVec[top5idx][-1] / maxScoreVec[top5idx][-3]) # top-2 guesses are 1's complements of each other\n",
    "    guessTop5.append((\"Byte Number: {}\".format(i), \"Top-5 Indices: {}\".format(top5idx), \"Top-5 Corr Scores: {}\".format(maxScoreVec[top5idx])))\n",
    "    keyGuess.append(top5idx[-1])\n",
    "    \n",
    "    clear_output(wait=True)  # clear the previous output\n",
    "    display(guessTop5)\n",
    "    display(\"Top-5 correlations for Byte {} at points: {}\".format(i, corrScore[i].argmax(axis=1)[top5idx]))\n",
    "    display(\"Confidence Score: {}\".format(confScore), \"Key Guesses: {}\".format(keyGuess))\n",
    "    \n",
    "#if (attackType == \"first\"):\n",
    "#    fileName = \"../data/keys/WK1_probable\"\n",
    "#else:\n",
    "#    fileName = \"../data/keys/WK3_probable\"\n",
    "#np.save(fileName, keyGuess)"
   ]
  },
  {
   "cell_type": "markdown",
   "metadata": {},
   "source": [
    "### Using T-Tables as Intermediate Result\n",
    "\n",
    "Split the 8 T-Tables into four, each holding a byte of the result. This approach uses 32 T-Tables in all."
   ]
  },
  {
   "cell_type": "code",
   "execution_count": 18,
   "metadata": {},
   "outputs": [
    {
     "data": {
      "text/plain": [
       "[(0,\n",
       "  array([ 98,  44, 110, 186,  11]),\n",
       "  array([0.00049938, 0.00051278, 0.00053281, 0.00053285, 0.00054694])),\n",
       " (1,\n",
       "  array([204, 203,  53, 199, 235]),\n",
       "  array([0.00053739, 0.00058844, 0.00059634, 0.00070768, 0.00074085])),\n",
       " (2,\n",
       "  array([104, 149,  45, 100, 181]),\n",
       "  array([0.00051223, 0.00051264, 0.00051374, 0.00053749, 0.00059108])),\n",
       " (3,\n",
       "  array([104, 233, 151,  63,  87]),\n",
       "  array([0.00050811, 0.0005087 , 0.0005195 , 0.00056492, 0.00060764]))]"
      ]
     },
     "metadata": {},
     "output_type": "display_data"
    },
    {
     "data": {
      "text/plain": [
       "array([1134, 1134, 1143, 1143, 1143])"
      ]
     },
     "metadata": {},
     "output_type": "display_data"
    },
    {
     "data": {
      "text/plain": [
       "'Confidence Score: '"
      ]
     },
     "metadata": {},
     "output_type": "display_data"
    },
    {
     "data": {
      "text/plain": [
       "[1.0264431768016602,\n",
       " 1.0468701114117536,\n",
       " 1.0997014613553246,\n",
       " 1.0756142196021579]"
      ]
     },
     "metadata": {},
     "output_type": "display_data"
    },
    {
     "data": {
      "text/plain": [
       "'Key Guesses: '"
      ]
     },
     "metadata": {},
     "output_type": "display_data"
    },
    {
     "data": {
      "text/plain": [
       "[11, 235, 181, 87]"
      ]
     },
     "metadata": {},
     "output_type": "display_data"
    }
   ],
   "source": [
    "# Infer RK0/RK34:\n",
    "# region to track in the power trace for artefacts from the 1st round\n",
    "\n",
    "'''\n",
    "Bytes 0, 1, 2, 3:\n",
    "StartPoint = 800\n",
    "EndPoint = 1000 \n",
    "\n",
    "Bytes 4-7, c-f:\n",
    "StartPoint = 400\n",
    "EndPoint = 800 \n",
    "\n",
    "Bytes 8, 9, a, b:\n",
    "StartPoint = 1100\n",
    "EndPoint = 1400?\n",
    "'''\n",
    "keyGuess = []\n",
    "guessTop5 = []\n",
    "confScore = []\n",
    "\n",
    "for i in tnrange(0, 4, desc=\"Attacking RK0\"):\n",
    "    temp = []\n",
    "    for keyByte in tnrange(0, 256, desc=\"Generating Hamming Weights\"):\n",
    "        for traceNum in range(activeTraces):\n",
    "            if (i == 0):\n",
    "                interVal = intermediate_00(textInp[traceNum, i], keyByte)\n",
    "            elif (i == 1):\n",
    "                interVal = intermediate_01(textInp[traceNum, i], keyByte)\n",
    "            elif (i == 2):\n",
    "                interVal = intermediate_02(textInp[traceNum, i], keyByte)\n",
    "            elif (i == 3):\n",
    "                interVal = intermediate_03(textInp[traceNum, i], keyByte)\n",
    "            \n",
    "            HWmatrix[traceNum, keyByte] = bin(interVal).count(\"1\")\n",
    "\n",
    "        for point in range(startPoint[offset], endPoint[offset]):\n",
    "            hw = HWmatrix[:activeTraces, keyByte]\n",
    "            trc = powerTrace[:activeTraces, point]\n",
    "            corrScore[i, keyByte, point] = np.abs(linregress(hw, trc).slope)\n",
    "        temp.append((keyByte, np.max(corrScore[i, keyByte])))\n",
    "\n",
    "    maxScoreVec = corrScore[i].max(axis=1)    # maxScore across tracePoints for each guess\n",
    "    top5idx = maxScoreVec.argsort()[-5:]\n",
    "    confScore.append(maxScoreVec[top5idx][-1] / maxScoreVec[top5idx][-2])\n",
    "    guessTop5.append((\"Byte Number: {}\".format(i), \"Top-5 Indices: {}\".format(top5idx), \"Top-5 Corr Scores: {}\".format(maxScoreVec[top5idx])))\n",
    "    keyGuess.append(top5idx[-1])\n",
    "    \n",
    "    clear_output(wait=True)  # clear the previous output\n",
    "    display(guessTop5)\n",
    "    display(\"Top-5 correlations for Byte {} at points: {}\".format(i, corrScore[i].argmax(axis=1)[top5idx]))\n",
    "    display(\"Confidence Score: {}\".format(confScore), \"Key Guesses: {}\".format(keyGuess))\n",
    "        \n",
    "#    temp.sort(key = lambda x: -x[1])  # sort temp by dom value\n",
    "#    printable.append(temp)  # add the data in list\n",
    "#    df = pd.DataFrame(printable).transpose()\n",
    "\n",
    "#    keyGuess.append(corrScore[i].max(axis=1).argmax())\n",
    "\n",
    "#    clear_output(wait=True)  # clear the previous output\n",
    "#    display(df.head().style.format(format_stat).apply(color_corr_key, axis=0))  # display the current status\n",
    "\n",
    "# if (attackType == \"first\"):\n",
    "#     fileName = \"../data/keys/RK0\"\n",
    "# else:\n",
    "#     fileName = \"../data/keys/RK34\"\n",
    "# np.save(fileName, keyGuess)"
   ]
  },
  {
   "cell_type": "markdown",
   "metadata": {},
   "source": [
    "### Second Round Attack\n",
    "\n",
    "Intermediate Value = output of first round ^ keyGuess"
   ]
  },
  {
   "cell_type": "code",
   "execution_count": 43,
   "metadata": {},
   "outputs": [],
   "source": [
    "# CPA at T-table output:\n",
    "def tf00(inp):\n",
    "    return tf00Arr[inp]\n",
    "\n",
    "def tf01(inp):\n",
    "    return tf01Arr[inp]\n",
    "\n",
    "def tf02(inp):\n",
    "    return tf02Arr[inp]\n",
    "\n",
    "def tf03(inp):\n",
    "    return tf03Arr[inp]\n",
    "\n",
    "def tf10(inp):\n",
    "    return tf10Arr[inp]\n",
    "\n",
    "def tf11(inp):\n",
    "    return tf11Arr[inp]\n",
    "\n",
    "def tf12(inp):\n",
    "    return tf12Arr[inp]\n",
    "\n",
    "def tf13(inp):\n",
    "    return tf13Arr[inp]\n",
    "\n",
    "def f0(inpBytes, keyBytes):\n",
    "    return tf00(inpBytes[0] ^ keyBytes[0]) ^ tf01(inpBytes[1] ^ keyBytes[1]) ^ tf02(inpBytes[2] ^ keyBytes[2]) ^ tf03(inpBytes[3] ^ keyBytes[3])\n",
    "\n",
    "def f1(inpBytes, keyBytes):\n",
    "    return tf10(inpBytes[0] ^ keyBytes[0]) ^ tf11(inpBytes[1] ^ keyBytes[1]) ^ tf12(inpBytes[2] ^ keyBytes[2]) ^ tf13(inpBytes[3] ^ keyBytes[3])\n",
    "\n",
    "rk0 = np.load(\"../data/keys/RK0.npy\", \"r\")\n",
    "rk1 = np.load(\"../data/keys/RK1.npy\", \"r\")\n",
    "wk0 = np.load(\"../data/keys/WK0_probable.npy\", \"r\")\n",
    "wk1 = np.load(\"../data/keys/WK1_probable.npy\", \"r\")\n",
    "wk2 = np.load(\"../data/keys/WK2_probable.npy\", \"r\")\n",
    "wk3 = np.load(\"../data/keys/WK3_probable.npy\", \"r\")\n",
    "\n",
    "def intermediate_rk2(pt0Bytes, rk0Bytes, pt1Byte, bytePos):\n",
    "    return (f0(pt0Bytes, rk0Bytes) >> bytePos) & (0xFF) ^ pt1Byte\n",
    "\n",
    "def intermediate_rk3(pt2Bytes, rk1Bytes, pt3Byte, bytePos):\n",
    "    return (f1(pt2Bytes, rk1Bytes) >> bytePos) & (0xFF) ^ pt3Byte\n"
   ]
  },
  {
   "cell_type": "code",
   "execution_count": 61,
   "metadata": {},
   "outputs": [
    {
     "name": "stdout",
     "output_type": "stream",
     "text": [
      "12000\n"
     ]
    }
   ],
   "source": [
    "keyGuess = []\n",
    "guessTop5 = []\n",
    "confScore = []\n",
    "totTraces, numPoints = powerTrace.shape\n",
    "alpha = 1.0\n",
    "activeTraces = int(alpha * totTraces)\n",
    "print(activeTraces)\n",
    "\n",
    "# region to track in the power trace for artefacts from the 1st round\n",
    "startPoint = 1450\n",
    "endPoint = 1800\n",
    "'''\n",
    "Bytes 0, 1, 2, 3:\n",
    "StartPoint = 800\n",
    "EndPoint = 1000 \n",
    "\n",
    "Bytes 4-7, c-f:\n",
    "StartPoint = 400\n",
    "EndPoint = 800 \n",
    "\n",
    "Bytes 8, 9, a, b:\n",
    "StartPoint = 1100\n",
    "EndPoint = 1400?\n",
    "'''\n",
    "HWmatrix = np.zeros((totTraces, 256), dtype= np.uint8)\n",
    "corrScore = np.zeros((16, 256, numPoints))"
   ]
  },
  {
   "cell_type": "code",
   "execution_count": 62,
   "metadata": {},
   "outputs": [
    {
     "data": {
      "text/plain": [
       "[('Byte Number: 0',\n",
       "  'Top-5 Indices: [110 137   9 161 191]',\n",
       "  'Top-5 Corr Scores: [0.0004556  0.0004638  0.00046907 0.00047371 0.00050851]'),\n",
       " ('Byte Number: 1',\n",
       "  'Top-5 Indices: [190  35 105 142   4]',\n",
       "  'Top-5 Corr Scores: [0.00048939 0.00053173 0.00054698 0.00054866 0.00054943]'),\n",
       " ('Byte Number: 2',\n",
       "  'Top-5 Indices: [222  12 236 216  64]',\n",
       "  'Top-5 Corr Scores: [0.00044894 0.00045771 0.00048234 0.0004856  0.00054386]'),\n",
       " ('Byte Number: 3',\n",
       "  'Top-5 Indices: [106 120 175 219  82]',\n",
       "  'Top-5 Corr Scores: [0.00043101 0.0004464  0.00045336 0.00054536 0.00060645]')]"
      ]
     },
     "metadata": {},
     "output_type": "display_data"
    },
    {
     "data": {
      "text/plain": [
       "'Top-5 correlations for Byte 3 at points: [1714 1705 1714 1705 1705]'"
      ]
     },
     "metadata": {},
     "output_type": "display_data"
    },
    {
     "data": {
      "text/plain": [
       "'Confidence Score: [1.073462157435103, 1.0014095366280842, 1.1199769129967154, 1.1120213015202964]'"
      ]
     },
     "metadata": {},
     "output_type": "display_data"
    },
    {
     "data": {
      "text/plain": [
       "'Key Guesses: [191, 4, 64, 82]'"
      ]
     },
     "metadata": {},
     "output_type": "display_data"
    }
   ],
   "source": [
    "for i in range(0, 4):\n",
    "    for keyByte in tnrange(0, 256, desc=\"Generating Hamming Weights\"):\n",
    "        for traceNum in range(activeTraces):\n",
    "\n",
    "            inp_to_SBox = intermediate_rk2(textInp[traceNum, 0:4], rk0, textInp[traceNum, 4+i], 8 * i)\n",
    "            #\n",
    "            if (i % 2 == 0):\n",
    "                interVal = intermediate_0(inp_to_SBox, keyByte)\n",
    "            else:\n",
    "                interVal = intermediate_1(inp_to_SBox, keyByte)\n",
    "            HWmatrix[traceNum, keyByte] = HW[interVal]\n",
    "        \n",
    "        hwvec = HWmatrix[:activeTraces, keyByte]\n",
    "        pTrace = powerTrace[:activeTraces, startPoint:endPoint]\n",
    "        corrScore[i, keyByte, startPoint:endPoint] = [np.abs(linregress(hwvec, pTrace[:, point]).slope) \\\n",
    "                                                      for point in range(endPoint - startPoint)]\n",
    "    \n",
    "    maxScoreVec = corrScore[i].max(axis=1)    #maxScore across tracePoints for each guess\n",
    "    top5idx = maxScoreVec.argsort()[-5:]\n",
    "    confScore.append(maxScoreVec[top5idx][-1] / maxScoreVec[top5idx][-2])\n",
    "    guessTop5.append((\"Byte Number: {}\".format(i), \"Top-5 Indices: {}\".format(top5idx), \"Top-5 Corr Scores: {}\".format(maxScoreVec[top5idx])))\n",
    "    keyGuess.append(top5idx[-1])\n",
    "    \n",
    "    clear_output(wait=True)  # clear the previous output\n",
    "    display(guessTop5)\n",
    "    display(\"Top-5 correlations for Byte {} at points: {}\".format(i, corrScore[i].argmax(axis=1)[top5idx]))\n",
    "    display(\"Confidence Score: {}\".format(confScore), \"Key Guesses: {}\".format(keyGuess))\n",
    "    "
   ]
  },
  {
   "cell_type": "code",
   "execution_count": 63,
   "metadata": {},
   "outputs": [
    {
     "data": {
      "text/plain": [
       "[('Byte Number: 0',\n",
       "  'Top-5 Indices: [110 137   9 161 191]',\n",
       "  'Top-5 Corr Scores: [0.0004556  0.0004638  0.00046907 0.00047371 0.00050851]'),\n",
       " ('Byte Number: 1',\n",
       "  'Top-5 Indices: [190  35 105 142   4]',\n",
       "  'Top-5 Corr Scores: [0.00048939 0.00053173 0.00054698 0.00054866 0.00054943]'),\n",
       " ('Byte Number: 2',\n",
       "  'Top-5 Indices: [222  12 236 216  64]',\n",
       "  'Top-5 Corr Scores: [0.00044894 0.00045771 0.00048234 0.0004856  0.00054386]'),\n",
       " ('Byte Number: 3',\n",
       "  'Top-5 Indices: [106 120 175 219  82]',\n",
       "  'Top-5 Corr Scores: [0.00043101 0.0004464  0.00045336 0.00054536 0.00060645]'),\n",
       " ('Byte Number: 8',\n",
       "  'Top-5 Indices: [139 241 226  17 251]',\n",
       "  'Top-5 Corr Scores: [0.00044982 0.0004727  0.00049277 0.00050244 0.00051281]'),\n",
       " ('Byte Number: 9',\n",
       "  'Top-5 Indices: [ 95 182 117 255 129]',\n",
       "  'Top-5 Corr Scores: [0.00050995 0.00053897 0.00056005 0.0005662  0.00069891]'),\n",
       " ('Byte Number: 10',\n",
       "  'Top-5 Indices: [158 110 153  30 142]',\n",
       "  'Top-5 Corr Scores: [0.00044741 0.0004823  0.00049969 0.00055467 0.00062064]'),\n",
       " ('Byte Number: 11',\n",
       "  'Top-5 Indices: [ 64 220 179 152 177]',\n",
       "  'Top-5 Corr Scores: [0.00049169 0.0004988  0.00049939 0.00054981 0.00063038]')]"
      ]
     },
     "metadata": {},
     "output_type": "display_data"
    },
    {
     "data": {
      "text/plain": [
       "'Top-5 correlations for Byte 11 at points: [1714 1714 1714 1705 1714]'"
      ]
     },
     "metadata": {},
     "output_type": "display_data"
    },
    {
     "data": {
      "text/plain": [
       "'Confidence Score: [1.073462157435103, 1.0014095366280842, 1.1199769129967154, 1.1120213015202964, 1.0206439706586024, 1.2343822708557328, 1.1189473974809565, 1.1465473462958837]'"
      ]
     },
     "metadata": {},
     "output_type": "display_data"
    },
    {
     "data": {
      "text/plain": [
       "'Key Guesses: [191, 4, 64, 82, 251, 129, 142, 177]'"
      ]
     },
     "metadata": {},
     "output_type": "display_data"
    }
   ],
   "source": [
    "for i in range(8, 12):\n",
    "    for keyByte in tnrange(0, 256, desc=\"Generating Hamming Weights\"):\n",
    "        for traceNum in range(activeTraces):\n",
    "\n",
    "            inp_to_SBox = intermediate_rk3(textInp[traceNum, 8:12], rk1, textInp[traceNum, 4+i], 8 * (i - 8))\n",
    "            #\n",
    "            if (i % 2 == 0):\n",
    "                interVal = intermediate_1(inp_to_SBox, keyByte)\n",
    "            else:\n",
    "                interVal = intermediate_0(inp_to_SBox, keyByte)\n",
    "            HWmatrix[traceNum, keyByte] = HW[interVal]\n",
    "        \n",
    "        hwvec = HWmatrix[:activeTraces, keyByte]\n",
    "        pTrace = powerTrace[:activeTraces, startPoint:endPoint]\n",
    "        corrScore[i, keyByte, startPoint:endPoint] = [np.abs(linregress(hwvec, pTrace[:, point]).slope) \\\n",
    "                                                      for point in range(endPoint - startPoint)]\n",
    "    \n",
    "    maxScoreVec = corrScore[i].max(axis=1)    #maxScore across tracePoints for each guess\n",
    "    top5idx = maxScoreVec.argsort()[-5:]\n",
    "    confScore.append(maxScoreVec[top5idx][-1] / maxScoreVec[top5idx][-2])\n",
    "    guessTop5.append((\"Byte Number: {}\".format(i), \"Top-5 Indices: {}\".format(top5idx), \"Top-5 Corr Scores: {}\".format(maxScoreVec[top5idx])))\n",
    "    keyGuess.append(top5idx[-1])\n",
    "    \n",
    "    clear_output(wait=True)  # clear the previous output\n",
    "    display(guessTop5)\n",
    "    display(\"Top-5 correlations for Byte {} at points: {}\".format(i, corrScore[i].argmax(axis=1)[top5idx]))\n",
    "    display(\"Confidence Score: {}\".format(confScore), \"Key Guesses: {}\".format(keyGuess))\n",
    "    "
   ]
  },
  {
   "cell_type": "markdown",
   "metadata": {},
   "source": [
    "### Getting all Keys from the Whitening Keys\n",
    "\n",
    "Since the first and last round attacks give us the whitenining keys, it is possible to generate the entire key set using this information. The catch here however is that, for each byte of the whitening key, there are two potential contenders- key $K$ and its one's complement $\\overline{K}$. Hence to find the correct whitening key, we need to perform a search over a space of $2^{16}$ keys and check which combination of WK's result in the round keys RK0, RK1 predicted by CPA. \n",
    "\n",
    "The intermediate result used in extracting the Whitening Keys is $XOR(PT, WK)$. Hence, if the HW of the intermediate result for key guess $K$ is $h$, the HW when $\\overline{K}$ is used will be $8-h$. This means that if $K$ results in a correlation score of $m$ (= slope of linear fit), $\\overline{K}$ will correspond to a slope of $-m$, i.e.- both have the same correlation score."
   ]
  },
  {
   "cell_type": "code",
   "execution_count": null,
   "metadata": {},
   "outputs": [],
   "source": [
    "# Search for correct whitening keys amongst 2^16 potential candidates\n",
    "for itn in range(1 << 16):\n",
    "    \n",
    "    "
   ]
  },
  {
   "cell_type": "markdown",
   "metadata": {},
   "source": [
    "### Targeting the T-table outputs\n",
    "\n",
    "Repeating attack taking the T table output as the intermediate result (for RK0 and RK1). \n",
    "\n",
    "**Inferences:**\n",
    "- In most cases, the Top-1 key guess of the S Box attack matches the Top-1 guess of the T Table Attack\n",
    "- The S Box attack gives a clearer distinguisher than the T Table attack\n",
    "- In a couple of cases, the Top-1 key guesses differed. However, the Top-1 key guess of the S Box was present in the Top-5 guesses of the T Table attack. Further, the different between the correlation scores amongst the Top-5 guesses of the T Table was small."
   ]
  },
  {
   "cell_type": "code",
   "execution_count": null,
   "metadata": {},
   "outputs": [],
   "source": [
    "keyGuess = []\n",
    "guessTop5 = []\n",
    "confScore = []\n",
    "totTraces, numPoints = powerTrace.shape\n",
    "alpha = 1.0\n",
    "activeTraces = int(alpha * totTraces)\n",
    "print(activeTraces)\n",
    "\n",
    "# region to track in the power trace for artefacts from the 1st round\n",
    "startPoint = 800\n",
    "#winSize = 1000\n",
    "#winStride = 1800\n",
    "endPoint = 1200\n",
    "'''\n",
    "Bytes 0, 1, 2, 3:\n",
    "StartPoint = 800\n",
    "EndPoint = 1000 \n",
    "\n",
    "Bytes 4-7, c-f:\n",
    "StartPoint = 400\n",
    "EndPoint = 800 \n",
    "\n",
    "Bytes 8, 9, a, b:\n",
    "StartPoint = 1100\n",
    "EndPoint = 1400?\n",
    "'''\n",
    "HWmatrix = np.zeros((totTraces, 256), dtype= np.uint8)\n",
    "corrScore = np.zeros((16, 256, numPoints))"
   ]
  },
  {
   "cell_type": "code",
   "execution_count": null,
   "metadata": {},
   "outputs": [],
   "source": [
    "#for i in range(0, 16):\n",
    "for i in [0, 1, 2, 3, 8, 9, 10, 11]:\n",
    "    for keyByte in tqdm(range(0, 256)):\n",
    "        for traceNum in range(activeTraces):\n",
    "            if (i == 0):  \n",
    "                interVal = tf00(textInp[traceNum, i] ^ keyByte)\n",
    "            elif (i == 1):\n",
    "                interVal = tf01(textInp[traceNum, i] ^ keyByte)\n",
    "            elif (i == 2):\n",
    "                interVal = tf02(textInp[traceNum, i] ^ keyByte)\n",
    "            elif (i == 3):\n",
    "                interVal = tf03(textInp[traceNum, i] ^ keyByte)\n",
    "            elif (i == 8):\n",
    "                interVal = tf10(textInp[traceNum, i] ^ keyByte)\n",
    "            elif (i == 9):\n",
    "                interVal = tf11(textInp[traceNum, i] ^ keyByte)\n",
    "            elif (i == 10):\n",
    "                interVal = tf12(textInp[traceNum, i] ^ keyByte)\n",
    "            elif (i == 11):\n",
    "                interVal = tf13(textInp[traceNum, i] ^ keyByte)\n",
    "            else:\n",
    "                interVal = intermediate_xor(textInp[traceNum, i], keyByte)\n",
    "            #HWmatrix[traceNum, keyByte] = HW[interVal]\n",
    "            HWmatrix[traceNum, keyByte] = bin(interVal).count(\"1\")\n",
    "       \n",
    "        #for tracePoint in range(startPoint + i*winStride, startPoint + i*winStride + winSize):\n",
    "        hwvec = HWmatrix[:activeTraces, keyByte]\n",
    "        pTrace = powerTrace[:activeTraces, startPoint:endPoint]\n",
    "        corrScore[i, keyByte, startPoint:endPoint] = [np.abs(linregress(hwvec, pTrace[:, point]).slope) \\\n",
    "                                                      for point in range(endPoint - startPoint)]\n",
    "        '''\n",
    "        for tracePoint in range(startPoint, endPoint):\n",
    "            hwvec = HWmatrix[:activeTraces, keyByte]\n",
    "            pTrace = powerTrace[:activeTraces, tracePoint]\n",
    "            corrScore[i, keyByte, tracePoint] = np.abs(linregress(hwvec, pTrace).slope)\n",
    "        '''\n",
    "        \n",
    "    maxScoreVec = corrScore[i].max(axis=1)    #maxScore across tracePoints for each guess\n",
    "    top5idx = maxScoreVec.argsort()[-5:]\n",
    "    confScore.append(maxScoreVec[top5idx][-1] / maxScoreVec[top5idx][-2])\n",
    "    guessTop5.append((\"Byte Number: {}\".format(i), \"Top-5 Indices: {}\".format(top5idx), \"Top-5 Corr Scores: {}\".format(maxScoreVec[top5idx])))\n",
    "    keyGuess.append(top5idx[-1])\n",
    "    \n",
    "    clear_output(wait=True)  # clear the previous output\n",
    "    display(guessTop5)\n",
    "    display(\"Top-5 correlations for Byte {} at points: {}\".format(i, corrScore[i].argmax(axis=1)[top5idx]))\n",
    "    display(\"Confidence Score: {}\".format(confScore), \"Key Guesses: {}\".format(keyGuess))\n",
    "    "
   ]
  },
  {
   "cell_type": "code",
   "execution_count": null,
   "metadata": {},
   "outputs": [],
   "source": [
    "'''\n",
    "    s0Arr =  [0x57, 0x49, 0xd1, 0xc6, 0x2f, 0x33, 0x74, 0xfb,\n",
    "              0x95, 0x6d, 0x82, 0xea, 0x0e, 0xb0, 0xa8, 0x1c,\n",
    "              0x28, 0xd0, 0x4b, 0x92, 0x5c, 0xee, 0x85, 0xb1,\n",
    "              0xc4, 0x0a, 0x76, 0x3d, 0x63, 0xf9, 0x17, 0xaf,\n",
    "              0xbf, 0xa1, 0x19, 0x65, 0xf7, 0x7a, 0x32, 0x20,\n",
    "              0x06, 0xce, 0xe4, 0x83, 0x9d, 0x5b, 0x4c, 0xd8,\n",
    "              0x42, 0x5d, 0x2e, 0xe8, 0xd4, 0x9b, 0x0f, 0x13,\n",
    "              0x3c, 0x89, 0x67, 0xc0, 0x71, 0xaa, 0xb6, 0xf5,\n",
    "              0xa4, 0xbe, 0xfd, 0x8c, 0x12, 0x00, 0x97, 0xda,\n",
    "              0x78, 0xe1, 0xcf, 0x6b, 0x39, 0x43, 0x55, 0x26,\n",
    "              0x30, 0x98, 0xcc, 0xdd, 0xeb, 0x54, 0xb3, 0x8f,\n",
    "              0x4e, 0x16, 0xfa, 0x22, 0xa5, 0x77, 0x09, 0x61,\n",
    "              0xd6, 0x2a, 0x53, 0x37, 0x45, 0xc1, 0x6c, 0xae,\n",
    "              0xef, 0x70, 0x08, 0x99, 0x8b, 0x1d, 0xf2, 0xb4,\n",
    "              0xe9, 0xc7, 0x9f, 0x4a, 0x31, 0x25, 0xfe, 0x7c,\n",
    "              0xd3, 0xa2, 0xbd, 0x56, 0x14, 0x88, 0x60, 0x0b,\n",
    "              0xcd, 0xe2, 0x34, 0x50, 0x9e, 0xdc, 0x11, 0x05,\n",
    "              0x2b, 0xb7, 0xa9, 0x48, 0xff, 0x66, 0x8a, 0x73,\n",
    "              0x03, 0x75, 0x86, 0xf1, 0x6a, 0xa7, 0x40, 0xc2,\n",
    "              0xb9, 0x2c, 0xdb, 0x1f, 0x58, 0x94, 0x3e, 0xed,\n",
    "              0xfc, 0x1b, 0xa0, 0x04, 0xb8, 0x8d, 0xe6, 0x59,\n",
    "              0x62, 0x93, 0x35, 0x7e, 0xca, 0x21, 0xdf, 0x47,\n",
    "              0x15, 0xf3, 0xba, 0x7f, 0xa6, 0x69, 0xc8, 0x4d,\n",
    "              0x87, 0x3b, 0x9c, 0x01, 0xe0, 0xde, 0x24, 0x52,\n",
    "              0x7b, 0x0c, 0x68, 0x1e, 0x80, 0xb2, 0x5a, 0xe7,\n",
    "              0xad, 0xd5, 0x23, 0xf4, 0x46, 0x3f, 0x91, 0xc9,\n",
    "              0x6e, 0x84, 0x72, 0xbb, 0x0d, 0x18, 0xd9, 0x96,\n",
    "              0xf0, 0x5f, 0x41, 0xac, 0x27, 0xc5, 0xe3, 0x3a,\n",
    "              0x81, 0x6f, 0x07, 0xa3, 0x79, 0xf6, 0x2d, 0x38,\n",
    "              0x1a, 0x44, 0x5e, 0xb5, 0xd2, 0xec, 0xcb, 0x90,\n",
    "              0x9a, 0x36, 0xe5, 0x29, 0xc3, 0x4f, 0xab, 0x64,\n",
    "              0x51, 0xf8, 0x10, 0xd7, 0xbc, 0x02, 0x7d, 0x8e]\n",
    "'''\n",
    "'''\n",
    "    s1Arr =  [0x6c, 0xda, 0xc3, 0xe9, 0x4e, 0x9d, 0x0a, 0x3d,\n",
    "              0xb8, 0x36, 0xb4, 0x38, 0x13, 0x34, 0x0c, 0xd9,\n",
    "              0xbf, 0x74, 0x94, 0x8f, 0xb7, 0x9c, 0xe5, 0xdc,\n",
    "              0x9e, 0x07, 0x49, 0x4f, 0x98, 0x2c, 0xb0, 0x93,\n",
    "              0x12, 0xeb, 0xcd, 0xb3, 0x92, 0xe7, 0x41, 0x60,\n",
    "              0xe3, 0x21, 0x27, 0x3b, 0xe6, 0x19, 0xd2, 0x0e,\n",
    "              0x91, 0x11, 0xc7, 0x3f, 0x2a, 0x8e, 0xa1, 0xbc,\n",
    "              0x2b, 0xc8, 0xc5, 0x0f, 0x5b, 0xf3, 0x87, 0x8b,\n",
    "              0xfb, 0xf5, 0xde, 0x20, 0xc6, 0xa7, 0x84, 0xce,\n",
    "              0xd8, 0x65, 0x51, 0xc9, 0xa4, 0xef, 0x43, 0x53,\n",
    "              0x25, 0x5d, 0x9b, 0x31, 0xe8, 0x3e, 0x0d, 0xd7,\n",
    "              0x80, 0xff, 0x69, 0x8a, 0xba, 0x0b, 0x73, 0x5c,\n",
    "              0x6e, 0x54, 0x15, 0x62, 0xf6, 0x35, 0x30, 0x52,\n",
    "              0xa3, 0x16, 0xd3, 0x28, 0x32, 0xfa, 0xaa, 0x5e,\n",
    "              0xcf, 0xea, 0xed, 0x78, 0x33, 0x58, 0x09, 0x7b,\n",
    "              0x63, 0xc0, 0xc1, 0x46, 0x1e, 0xdf, 0xa9, 0x99,\n",
    "              0x55, 0x04, 0xc4, 0x86, 0x39, 0x77, 0x82, 0xec,\n",
    "              0x40, 0x18, 0x90, 0x97, 0x59, 0xdd, 0x83, 0x1f,\n",
    "              0x9a, 0x37, 0x06, 0x24, 0x64, 0x7c, 0xa5, 0x56,\n",
    "              0x48, 0x08, 0x85, 0xd0, 0x61, 0x26, 0xca, 0x6f,\n",
    "              0x7e, 0x6a, 0xb6, 0x71, 0xa0, 0x70, 0x05, 0xd1,\n",
    "              0x45, 0x8c, 0x23, 0x1c, 0xf0, 0xee, 0x89, 0xad,\n",
    "              0x7a, 0x4b, 0xc2, 0x2f, 0xdb, 0x5a, 0x4d, 0x76,\n",
    "              0x67, 0x17, 0x2d, 0xf4, 0xcb, 0xb1, 0x4a, 0xa8,\n",
    "              0xb5, 0x22, 0x47, 0x3a, 0xd5, 0x10, 0x4c, 0x72,\n",
    "              0xcc, 0x00, 0xf9, 0xe0, 0xfd, 0xe2, 0xfe, 0xae,\n",
    "              0xf8, 0x5f, 0xab, 0xf1, 0x1b, 0x42, 0x81, 0xd6,\n",
    "              0xbe, 0x44, 0x29, 0xa6, 0x57, 0xb9, 0xaf, 0xf2,\n",
    "              0xd4, 0x75, 0x66, 0xbb, 0x68, 0x9f, 0x50, 0x02,\n",
    "              0x01, 0x3c, 0x7f, 0x8d, 0x1a, 0x88, 0xbd, 0xac,\n",
    "              0xf7, 0xe4, 0x79, 0x96, 0xa2, 0xfc, 0x6d, 0xb2,\n",
    "              0x6b, 0x03, 0xe1, 0x2e, 0x7d, 0x14, 0x95, 0x1d]\n",
    "'''\n",
    "    \n",
    "'''\n",
    "def f0(inp):\n",
    "    \n",
    "    tf00 = np.load(path_to_data+\"tf00.npy\", \"r\")\n",
    "    tf01 = np.load(path_to_data+\"tf01.npy\", \"r\")\n",
    "    tf02 = np.load(path_to_data+\"tf02.npy\", \"r\")\n",
    "    tf03 = np.load(path_to_data+\"tf03.npy\", \"r\")\n",
    "    \n",
    "    out = tf00[inp[0]] ^ tf01[inp[1]] ^ tf02[inp[2]] ^ tf03[inp[3]]\n",
    "    return out\n",
    "\n",
    "def f1(inp):\n",
    "    \n",
    "    tf10 = np.load(path_to_data+\"tf10.npy\", \"r\")\n",
    "    tf11 = np.load(path_to_data+\"tf11.npy\", \"r\")\n",
    "    tf12 = np.load(path_to_data+\"tf12.npy\", \"r\")\n",
    "    tf13 = np.load(path_to_data+\"tf13.npy\", \"r\")\n",
    "    \n",
    "    out = tf10[inp[0]] ^ tf11[inp[1]] ^ tf12[inp[2]] ^ tf13[inp[3]]\n",
    "    return out\n",
    "\n",
    "def intermediate(pt, rk0, rk1, wk0, wk1):\n",
    "    # Assumption: pt is an array of 32-bit integers with 4 elements; rk's and wk's are 32-b ints\n",
    "        \n",
    "    # Ensure correct bit-width match!\n",
    "    out0 = f0(rk0 ^ pt[0])\n",
    "    out1 = pt[1] ^ wk0\n",
    "    out2 = f1(rk1 ^ pt[2])\n",
    "    out3 = pt[3] ^ wk1\n",
    "    out = [out0, out1, out2, out3]\n",
    "    return out\n",
    "\n",
    "'''\n",
    "\n",
    "'''\n",
    "#for i in range(0, 16):\n",
    "#for i in [4, 5, 6, 7, 12, 13, 14, 15]:\n",
    "for i in [8, 9, 10, 11]:\n",
    "    for keyByte in tqdm(range(0, 256)):\n",
    "        for traceNum in range(activeTraces):\n",
    "            if (i < 4):\n",
    "                if (i % 2 == 0):\n",
    "                    interVal = intermediate_0(textInp[traceNum, i], keyByte)\n",
    "                else:\n",
    "                    interVal = intermediate_1(textInp[traceNum, i], keyByte)\n",
    "            elif (i >= 8 and i < 12):\n",
    "                if (i % 2 == 0):\n",
    "                    interVal = intermediate_1(textInp[traceNum, i], keyByte)\n",
    "                else:\n",
    "                    interVal = intermediate_0(textInp[traceNum, i], keyByte)\n",
    "            else:\n",
    "                interVal = intermediate_xor(textInp[traceNum, i], keyByte)\n",
    "            HWmatrix[traceNum, keyByte] = HW[interVal]\n",
    "       \n",
    "        #for tracePoint in range(startPoint + i*winStride, startPoint + i*winStride + winSize):\n",
    "        hwvec = HWmatrix[:activeTraces, keyByte]\n",
    "        pTrace = powerTrace[:activeTraces, startPoint:endPoint]\n",
    "        corrScore[i, keyByte, startPoint:endPoint] = [np.abs(linregress(hwvec, pTrace[:, point]).slope) \\\n",
    "                                                      for point in range(endPoint - startPoint)]\n",
    "       \n",
    "    maxScoreVec = corrScore[i].max(axis=1)    #maxScore across tracePoints for each guess\n",
    "    top5idx = maxScoreVec.argsort()[-5:]\n",
    "    confScore.append(maxScoreVec[top5idx][-1] / maxScoreVec[top5idx][-2])\n",
    "    guessTop5.append((i, top5idx, maxScoreVec[top5idx]))\n",
    "    keyGuess.append(top5idx[-1])\n",
    "    print(guessTop5)\n",
    "    print(corrScore[i].argmax(axis=1)[top5idx])\n",
    "    print(\"Confidence Score: \", confScore, \"Key Guesses: \", keyGuess)\n",
    "            \n",
    "# Attack bytes 4-7\n",
    "\n",
    "# Attack bytes 8-11\n",
    "\n",
    "# Attack bytes 12-15\n",
    "'''"
   ]
  },
  {
   "cell_type": "code",
   "execution_count": null,
   "metadata": {
    "scrolled": true
   },
   "outputs": [],
   "source": []
  },
  {
   "cell_type": "code",
   "execution_count": null,
   "metadata": {},
   "outputs": [],
   "source": []
  }
 ],
 "metadata": {
  "kernelspec": {
   "display_name": "Python 3 (ipykernel)",
   "language": "python",
   "name": "python3"
  },
  "language_info": {
   "codemirror_mode": {
    "name": "ipython",
    "version": 3
   },
   "file_extension": ".py",
   "mimetype": "text/x-python",
   "name": "python",
   "nbconvert_exporter": "python",
   "pygments_lexer": "ipython3",
   "version": "3.9.7"
  },
  "vscode": {
   "interpreter": {
    "hash": "f0d48f290492e73820e0439ebf2aabd9af1121bf7abbadd11a691e3763c7d8b8"
   }
  }
 },
 "nbformat": 4,
 "nbformat_minor": 2
}
