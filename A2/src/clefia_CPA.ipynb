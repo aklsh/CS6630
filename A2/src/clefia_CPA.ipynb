{
 "cells": [
  {
   "cell_type": "markdown",
   "metadata": {},
   "source": [
    "## CLEFIA CPA Attack\n",
    "\n",
    "```\n",
    "Conduct Correlation Power Analysis attacks at the first, second and last rounds of CLEFIA-128 encryption. \n",
    "\n",
    "Authors: Arjun Menon V (ee18b104), Akilesh Kannan (ee18b122)\n",
    "```\n",
    "\n",
    "Assignment 2, Secure Processor Microarchitecture\n",
    "\n",
    "August 2022"
   ]
  },
  {
   "cell_type": "code",
   "execution_count": null,
   "metadata": {},
   "outputs": [],
   "source": [
    "import numpy as np\n",
    "import matplotlib.pyplot as plt\n",
    "from tqdm import tqdm\n",
    "from scipy.stats import linregress"
   ]
  },
  {
   "cell_type": "code",
   "execution_count": null,
   "metadata": {},
   "outputs": [],
   "source": [
    "# Load input and power trace\n",
    "textInp = np.load(\"../EE18B104_EE18B122/trace_002/textin_array.npy\", \"r\")\n",
    "powerTrace = np.load(\"../EE18B104_EE18B122/trace_002/trace_array.npy\", \"r\")\n",
    "cipherText = np.load(\"../EE18B104_EE18B122/trace_002/textout_array.npy\", \"r\")\n",
    "#\n",
    "s0Arr = np.load(\"../data/s0.npy\", \"r\")\n",
    "s1Arr = np.load(\"../data/s1.npy\", \"r\")\n",
    "#\n",
    "tf00Arr = np.load(\"../data/tf00.npy\", \"r\")\n",
    "tf01Arr = np.load(\"../data/tf01.npy\", \"r\")\n",
    "tf02Arr = np.load(\"../data/tf02.npy\", \"r\")\n",
    "tf03Arr = np.load(\"../data/tf03.npy\", \"r\")\n",
    "#\n",
    "tf10Arr = np.load(\"../data/tf10.npy\", \"r\")\n",
    "tf11Arr = np.load(\"../data/tf11.npy\", \"r\")\n",
    "tf12Arr = np.load(\"../data/tf12.npy\", \"r\")\n",
    "tf13Arr = np.load(\"../data/tf13.npy\", \"r\")\n",
    "\n",
    "\n",
    "print(textInp.shape)\n",
    "print(powerTrace.shape)"
   ]
  },
  {
   "cell_type": "code",
   "execution_count": null,
   "metadata": {},
   "outputs": [],
   "source": [
    "# Visualize Power Trace:\n",
    "plt.figure(figsize=(20, 12))\n",
    "idx = np.random.randint(0, powerTrace.shape[0])\n",
    "plt.plot(powerTrace[idx])\n",
    "plt.title(\"Power Trace for sample number \"+ str(idx))\n",
    "plt.show()\n"
   ]
  },
  {
   "cell_type": "markdown",
   "metadata": {},
   "source": [
    "### Where do you take the Intermediate Result?\n",
    "\n",
    "At this point, we have three choices on the location of the intermediate result:\n",
    "\n",
    "- Output of the SBox opertion, in the GFN4 network\n",
    "- Output of the T table, in the GFN4 network\n",
    "- Output of the F0/1 operation in the GFN4 network\n",
    "\n",
    "The output of each SBox is an 8-bit word, and hence we can perform key search with $2^8$ guesses for each of the 16 Bytes of the Key. On the contrary, the output of the F functions are 32-bits wide and the search space involves $2^{32}$ possibilities for each of the 4 Words of the key. \n",
    "\n",
    "However, if the implementation uses a look-up table for the entire F function, without evaluating the intermediate SBox result, the former attack scheme will not work as there won't be any correlation between the intermediate result and the power trace. Hence this is a weaker attack, despite having lower online complexity. \n",
    "\n",
    "**Approach:**\n",
    "\n",
    "- Try the SBox attack first and see if correlations are got with sufficient confidence\n",
    "- Repeat the attack using T table output as the intermediate result\n",
    "- Validate the results against the PT-CT pair provided\n",
    "- If the previous attack fails, try the F0/1 attack"
   ]
  },
  {
   "cell_type": "markdown",
   "metadata": {},
   "source": [
    "### CPA at the SBox Output\n",
    "\n",
    "**First Round of CLEFIA:**\n",
    "\n",
    "PT = P0 | P1 | P2 | P3\n",
    "\n",
    "T => P0 | P1 ^ WK0 | P2 | P3 ^ WK1\n",
    "\n",
    "T => P0 ^ RK0 | P1 ^ WK0 | P2 ^ RK1 | P3 ^ WK1\n",
    "\n",
    "T => S0(P0 ^ RK0) | P1 ^ WK0 | S1(P2 ^ RK1) | P3 ^ WK1  ---> Intermediate Result\n",
    "\n",
    "P0 ^ RK0 sent to S0 function and P2 ^ RK1 to S1 bytewise, and the HW of the results are correlated against the power trace. To find WK's, the intermediate result used is $P_{2i + 1}$ ^ $WK_i$\n",
    "\n",
    "**Last Round of CLEFIA:**\n",
    "\n",
    "**Second Round of CLEFIA:**"
   ]
  },
  {
   "cell_type": "code",
   "execution_count": 18,
   "metadata": {},
   "outputs": [],
   "source": [
    "def s0(inp):\n",
    "    return s0Arr[inp]\n",
    "\n",
    "def s1(inp):\n",
    "    return s1Arr[inp]\n",
    "\n",
    "def intermediate_0(pt_byte, key_byte):\n",
    "    return s0(pt_byte ^ key_byte)\n",
    "\n",
    "def intermediate_xor(pt_byte, wk_byte):\n",
    "    return pt_byte ^ wk_byte\n",
    "\n",
    "def intermediate_1(pt_byte, key_byte):\n",
    "    return s1(pt_byte ^ key_byte)\n",
    "\n",
    "# array holding HW of all 8-bit integers\n",
    "HW = [ bin(n).count(\"1\") for n in range(0, 256) ]"
   ]
  },
  {
   "cell_type": "code",
   "execution_count": 5,
   "metadata": {},
   "outputs": [
    {
     "name": "stdout",
     "output_type": "stream",
     "text": [
      "12000\n"
     ]
    }
   ],
   "source": [
    "guessTop5 = []\n",
    "confScore = []\n",
    "totTraces, numPoints = powerTrace.shape\n",
    "alpha = 1.0\n",
    "activeTraces = int(alpha * totTraces)\n",
    "print(activeTraces)\n",
    "\n",
    "attackType = \"first\"\n",
    "startPoint = [800, 450, 1100, 15700, 16200, 16000]   # ['RK0', 'WK0/1', 'RK1', 'RK34', 'WK2/3', '']\n",
    "endPoint = [1000, 700, 1300, 15900, 16800, 16200]\n",
    "\n",
    "if (attackType == \"first\"):\n",
    "    textArr = textInp\n",
    "    offset = 0\n",
    "elif (attackType == \"last\"):\n",
    "    textArr = cipherText\n",
    "    offset = 3\n",
    "\n",
    "HWmatrix = np.zeros((totTraces, 256), dtype= np.uint8)\n",
    "corrScore = np.zeros((16, 256, numPoints))"
   ]
  },
  {
   "cell_type": "code",
   "execution_count": 39,
   "metadata": {},
   "outputs": [
    {
     "name": "stderr",
     "output_type": "stream",
     "text": [
      "100%|█████████████████████████████████████████████████████████████████████████████████| 256/256 [00:37<00:00,  6.79it/s]\n"
     ]
    },
    {
     "name": "stdout",
     "output_type": "stream",
     "text": [
      "[(0, array([ 96, 164, 144, 211, 147]), array([0.00156519, 0.00172567, 0.00191246, 0.00221018, 0.00593054]))]\n",
      "[806 806 806 807 806]\n",
      "Confidence Score:  [2.6832811159025445] Key Guesses:  [147]\n"
     ]
    },
    {
     "name": "stderr",
     "output_type": "stream",
     "text": [
      "100%|█████████████████████████████████████████████████████████████████████████████████| 256/256 [00:40<00:00,  6.35it/s]\n"
     ]
    },
    {
     "name": "stdout",
     "output_type": "stream",
     "text": [
      "[(0, array([ 96, 164, 144, 211, 147]), array([0.00156519, 0.00172567, 0.00191246, 0.00221018, 0.00593054])), (1, array([226, 109, 209,   2, 125]), array([0.0028281 , 0.00291201, 0.00291674, 0.00367029, 0.01201779]))]\n",
      "[814 814 812 814 814]\n",
      "Confidence Score:  [2.6832811159025445, 3.2743425399705566] Key Guesses:  [147, 125]\n"
     ]
    },
    {
     "name": "stderr",
     "output_type": "stream",
     "text": [
      "100%|█████████████████████████████████████████████████████████████████████████████████| 256/256 [00:40<00:00,  6.37it/s]\n"
     ]
    },
    {
     "name": "stdout",
     "output_type": "stream",
     "text": [
      "[(0, array([ 96, 164, 144, 211, 147]), array([0.00156519, 0.00172567, 0.00191246, 0.00221018, 0.00593054])), (1, array([226, 109, 209,   2, 125]), array([0.0028281 , 0.00291201, 0.00291674, 0.00367029, 0.01201779])), (2, array([ 51, 187, 143, 195, 184]), array([0.00161766, 0.00176028, 0.00178389, 0.00182456, 0.00509455]))]\n",
      "[822 821 821 822 821]\n",
      "Confidence Score:  [2.6832811159025445, 3.2743425399705566, 2.7922086578289522] Key Guesses:  [147, 125, 184]\n"
     ]
    },
    {
     "name": "stderr",
     "output_type": "stream",
     "text": [
      "100%|█████████████████████████████████████████████████████████████████████████████████| 256/256 [00:40<00:00,  6.38it/s]"
     ]
    },
    {
     "name": "stdout",
     "output_type": "stream",
     "text": [
      "[(0, array([ 96, 164, 144, 211, 147]), array([0.00156519, 0.00172567, 0.00191246, 0.00221018, 0.00593054])), (1, array([226, 109, 209,   2, 125]), array([0.0028281 , 0.00291201, 0.00291674, 0.00367029, 0.01201779])), (2, array([ 51, 187, 143, 195, 184]), array([0.00161766, 0.00176028, 0.00178389, 0.00182456, 0.00509455])), (3, array([ 81, 228, 125,  61, 242]), array([0.00277314, 0.002811  , 0.00290774, 0.00321601, 0.0052563 ]))]\n",
      "[831 831 831 831 831]\n",
      "Confidence Score:  [2.6832811159025445, 3.2743425399705566, 2.7922086578289522, 1.6344183325076411] Key Guesses:  [147, 125, 184, 242]\n"
     ]
    },
    {
     "name": "stderr",
     "output_type": "stream",
     "text": [
      "\n"
     ]
    }
   ],
   "source": [
    "# Infer RK0/RK34:\n",
    "# region to track in the power trace for artefacts from the 1st round\n",
    "\n",
    "'''\n",
    "Bytes 0, 1, 2, 3:\n",
    "StartPoint = 800\n",
    "EndPoint = 1000 \n",
    "\n",
    "Bytes 4-7, c-f:\n",
    "StartPoint = 400\n",
    "EndPoint = 800 \n",
    "\n",
    "Bytes 8, 9, a, b:\n",
    "StartPoint = 1100\n",
    "EndPoint = 1400?\n",
    "'''\n",
    "keyGuess = []\n",
    "\n",
    "for i in range(0, 4):\n",
    "    for keyByte in tqdm(range(0, 256)):\n",
    "        for traceNum in range(activeTraces):\n",
    "            if (i % 2 == 0):\n",
    "                interVal = intermediate_0(textArr[traceNum, i], keyByte)\n",
    "            else:\n",
    "                interVal = intermediate_1(textArr[traceNum, i], keyByte)\n",
    "            HWmatrix[traceNum, keyByte] = HW[interVal]\n",
    "       \n",
    "        hwvec = HWmatrix[:activeTraces, keyByte]\n",
    "        pTrace = powerTrace[:activeTraces, startPoint[offset]:endPoint[offset]]\n",
    "        corrScore[i, keyByte, startPoint[offset]:endPoint[offset]] = [np.abs(linregress(hwvec, pTrace[:, point]).slope) \\\n",
    "                                                      for point in range(endPoint[offset] - startPoint[offset])]\n",
    "        \n",
    "    maxScoreVec = corrScore[i].max(axis=1)    #maxScore across tracePoints for each guess\n",
    "    top5idx = maxScoreVec.argsort()[-5:]\n",
    "    confScore.append(maxScoreVec[top5idx][-1] / maxScoreVec[top5idx][-2])\n",
    "    guessTop5.append((i, top5idx, maxScoreVec[top5idx]))\n",
    "    keyGuess.append(top5idx[-1])\n",
    "    print(guessTop5)\n",
    "    print(corrScore[i].argmax(axis=1)[top5idx])\n",
    "    print(\"Confidence Score: \", confScore, \"Key Guesses: \", keyGuess)\n",
    "\n",
    "if (attackType == \"first\"):\n",
    "    fileName = \"../data/keys/RK0\"\n",
    "else:\n",
    "    fileName = \"../data/keys/RK34\"\n",
    "#np.save(fileName, keyGuess)"
   ]
  },
  {
   "cell_type": "code",
   "execution_count": 12,
   "metadata": {},
   "outputs": [
    {
     "name": "stderr",
     "output_type": "stream",
     "text": [
      "100%|█████████████████████████████████████████████████████████████████████████████████| 256/256 [02:04<00:00,  2.06it/s]\n"
     ]
    },
    {
     "name": "stdout",
     "output_type": "stream",
     "text": [
      "[(0, array([181, 113,  69,   6,  70]), array([0.00146726, 0.00184267, 0.00201281, 0.00207967, 0.00597354])), (1, array([106, 140, 204, 138, 245]), array([0.00286374, 0.00290569, 0.00311929, 0.00369776, 0.01208208])), (2, array([ 34,  11, 115, 167, 112]), array([0.00161837, 0.00171436, 0.0017528 , 0.0019374 , 0.00490478])), (3, array([103, 190,  39,  11, 168]), array([0.00289022, 0.00301086, 0.00313587, 0.00317269, 0.00527854])), (4, array([ 80, 187,  68,  84, 171]), array([0.00606235, 0.00613396, 0.00613396, 0.00792148, 0.00792148]))]\n",
      "[16411 16411 16411 16411 16411]\n",
      "Confidence Score:  [2.8723478497279666, 3.267407142818432, 2.53162781007655, 1.663743498599343, 1.2914129396310787] Key Guesses:  [171]\n"
     ]
    },
    {
     "name": "stderr",
     "output_type": "stream",
     "text": [
      "100%|█████████████████████████████████████████████████████████████████████████████████| 256/256 [01:46<00:00,  2.39it/s]\n"
     ]
    },
    {
     "name": "stdout",
     "output_type": "stream",
     "text": [
      "[(0, array([181, 113,  69,   6,  70]), array([0.00146726, 0.00184267, 0.00201281, 0.00207967, 0.00597354])), (1, array([106, 140, 204, 138, 245]), array([0.00286374, 0.00290569, 0.00311929, 0.00369776, 0.01208208])), (2, array([ 34,  11, 115, 167, 112]), array([0.00161837, 0.00171436, 0.0017528 , 0.0019374 , 0.00490478])), (3, array([103, 190,  39,  11, 168]), array([0.00289022, 0.00301086, 0.00313587, 0.00317269, 0.00527854])), (4, array([ 80, 187,  68,  84, 171]), array([0.00606235, 0.00613396, 0.00613396, 0.00792148, 0.00792148])), (5, array([171,  47, 208, 212,  43]), array([0.0066376 , 0.0066806 , 0.0066806 , 0.00860659, 0.00860659]))]\n",
      "[16424 16661 16661 16424 16424]\n",
      "Confidence Score:  [2.8723478497279666, 3.267407142818432, 2.53162781007655, 1.663743498599343, 1.2914129396310787, 1.2882961329300187] Key Guesses:  [171, 43]\n"
     ]
    },
    {
     "name": "stderr",
     "output_type": "stream",
     "text": [
      "100%|█████████████████████████████████████████████████████████████████████████████████| 256/256 [01:55<00:00,  2.21it/s]\n"
     ]
    },
    {
     "name": "stdout",
     "output_type": "stream",
     "text": [
      "[(0, array([181, 113,  69,   6,  70]), array([0.00146726, 0.00184267, 0.00201281, 0.00207967, 0.00597354])), (1, array([106, 140, 204, 138, 245]), array([0.00286374, 0.00290569, 0.00311929, 0.00369776, 0.01208208])), (2, array([ 34,  11, 115, 167, 112]), array([0.00161837, 0.00171436, 0.0017528 , 0.0019374 , 0.00490478])), (3, array([103, 190,  39,  11, 168]), array([0.00289022, 0.00301086, 0.00313587, 0.00317269, 0.00527854])), (4, array([ 80, 187,  68,  84, 171]), array([0.00606235, 0.00613396, 0.00613396, 0.00792148, 0.00792148])), (5, array([171,  47, 208, 212,  43]), array([0.0066376 , 0.0066806 , 0.0066806 , 0.00860659, 0.00860659])), (6, array([ 69, 188,  67,  65, 190]), array([0.00629758, 0.00660596, 0.00660596, 0.00820421, 0.00820421]))]\n",
      "[16674 16674 16674 16674 16674]\n",
      "Confidence Score:  [2.8723478497279666, 3.267407142818432, 2.53162781007655, 1.663743498599343, 1.2914129396310787, 1.2882961329300187, 1.2419416891038666] Key Guesses:  [171, 43, 190]\n"
     ]
    },
    {
     "name": "stderr",
     "output_type": "stream",
     "text": [
      "100%|█████████████████████████████████████████████████████████████████████████████████| 256/256 [02:36<00:00,  1.64it/s]"
     ]
    },
    {
     "name": "stdout",
     "output_type": "stream",
     "text": [
      "[(0, array([181, 113,  69,   6,  70]), array([0.00146726, 0.00184267, 0.00201281, 0.00207967, 0.00597354])), (1, array([106, 140, 204, 138, 245]), array([0.00286374, 0.00290569, 0.00311929, 0.00369776, 0.01208208])), (2, array([ 34,  11, 115, 167, 112]), array([0.00161837, 0.00171436, 0.0017528 , 0.0019374 , 0.00490478])), (3, array([103, 190,  39,  11, 168]), array([0.00289022, 0.00301086, 0.00313587, 0.00317269, 0.00527854])), (4, array([ 80, 187,  68,  84, 171]), array([0.00606235, 0.00613396, 0.00613396, 0.00792148, 0.00792148])), (5, array([171,  47, 208, 212,  43]), array([0.0066376 , 0.0066806 , 0.0066806 , 0.00860659, 0.00860659])), (6, array([ 69, 188,  67,  65, 190]), array([0.00629758, 0.00660596, 0.00660596, 0.00820421, 0.00820421])), (7, array([ 40, 209,  46, 211,  44]), array([0.00631775, 0.00661018, 0.00661018, 0.00815771, 0.00815771]))]\n",
      "[16687 16687 16687 16687 16687]\n",
      "Confidence Score:  [2.8723478497279666, 3.267407142818432, 2.53162781007655, 1.663743498599343, 1.2914129396310787, 1.2882961329300187, 1.2419416891038666, 1.2341131783008417] Key Guesses:  [171, 43, 190, 44]\n"
     ]
    },
    {
     "name": "stderr",
     "output_type": "stream",
     "text": [
      "\n"
     ]
    }
   ],
   "source": [
    "# Infer WK0/1 or WK2/3:\n",
    "# region to track in the power trace for artefacts from the 1st round\n",
    "'''\n",
    "Bytes 4-7, c-f:\n",
    "StartPoint = 400\n",
    "EndPoint = 800 \n",
    "'''\n",
    "keyGuess = []\n",
    "\n",
    "for i in range(4, 8):\n",
    "    for keyByte in tqdm(range(0, 256)):\n",
    "        for traceNum in range(activeTraces):\n",
    "            interVal = intermediate_xor(textArr[traceNum, i], keyByte)\n",
    "            HWmatrix[traceNum, keyByte] = HW[interVal]\n",
    "       \n",
    "        hwvec = HWmatrix[:activeTraces, keyByte]\n",
    "        pTrace = powerTrace[:activeTraces, startPoint[offset+1]:endPoint[offset+1]]\n",
    "        corrScore[i, keyByte, startPoint[offset+1]:endPoint[offset+1]] = [np.abs(linregress(hwvec, pTrace[:, point]).slope) \\\n",
    "                                                      for point in range(endPoint[offset+1] - startPoint[offset+1])]\n",
    "        \n",
    "    maxScoreVec = corrScore[i].max(axis=1)    #maxScore across tracePoints for each guess\n",
    "    top5idx = maxScoreVec.argsort()[-5:]\n",
    "    confScore.append(maxScoreVec[top5idx][-1] / maxScoreVec[top5idx][-3])  # top-2 guesses are 1's complements of each other\n",
    "    guessTop5.append((i, top5idx, maxScoreVec[top5idx]))\n",
    "    keyGuess.append(top5idx[-1])\n",
    "    print(guessTop5)\n",
    "    print(corrScore[i].argmax(axis=1)[top5idx])\n",
    "    print(\"Confidence Score: \", confScore, \"Key Guesses: \", keyGuess)\n",
    "\n",
    "if (attackType == \"first\"):\n",
    "    fileName = \"../data/keys/WK0_probable\"\n",
    "else:\n",
    "    fileName = \"../data/keys/WK2_probable\"\n",
    "#np.save(fileName, keyGuess)"
   ]
  },
  {
   "cell_type": "code",
   "execution_count": 40,
   "metadata": {},
   "outputs": [
    {
     "name": "stderr",
     "output_type": "stream",
     "text": [
      "100%|█████████████████████████████████████████████████████████████████████████████████| 256/256 [00:38<00:00,  6.73it/s]\n"
     ]
    },
    {
     "name": "stdout",
     "output_type": "stream",
     "text": [
      "[(0, array([ 96, 164, 144, 211, 147]), array([0.00156519, 0.00172567, 0.00191246, 0.00221018, 0.00593054])), (1, array([226, 109, 209,   2, 125]), array([0.0028281 , 0.00291201, 0.00291674, 0.00367029, 0.01201779])), (2, array([ 51, 187, 143, 195, 184]), array([0.00161766, 0.00176028, 0.00178389, 0.00182456, 0.00509455])), (3, array([ 81, 228, 125,  61, 242]), array([0.00277314, 0.002811  , 0.00290774, 0.00321601, 0.0052563 ])), (8, array([ 95,  47, 159,  63, 110]), array([0.0030019 , 0.00327104, 0.00336725, 0.00348923, 0.00427766]))]\n",
      "[1119 1119 1119 1119 1118]\n",
      "Confidence Score:  [2.6832811159025445, 3.2743425399705566, 2.7922086578289522, 1.6344183325076411, 1.2259614798089808] Key Guesses:  [110]\n"
     ]
    },
    {
     "name": "stderr",
     "output_type": "stream",
     "text": [
      "100%|█████████████████████████████████████████████████████████████████████████████████| 256/256 [00:42<00:00,  6.07it/s]\n"
     ]
    },
    {
     "name": "stdout",
     "output_type": "stream",
     "text": [
      "[(0, array([ 96, 164, 144, 211, 147]), array([0.00156519, 0.00172567, 0.00191246, 0.00221018, 0.00593054])), (1, array([226, 109, 209,   2, 125]), array([0.0028281 , 0.00291201, 0.00291674, 0.00367029, 0.01201779])), (2, array([ 51, 187, 143, 195, 184]), array([0.00161766, 0.00176028, 0.00178389, 0.00182456, 0.00509455])), (3, array([ 81, 228, 125,  61, 242]), array([0.00277314, 0.002811  , 0.00290774, 0.00321601, 0.0052563 ])), (8, array([ 95,  47, 159,  63, 110]), array([0.0030019 , 0.00327104, 0.00336725, 0.00348923, 0.00427766])), (9, array([ 87,  89, 141, 120,  90]), array([0.00262169, 0.00281244, 0.00287847, 0.00351882, 0.01206471]))]\n",
      "[1126 1126 1126 1126 1126]\n",
      "Confidence Score:  [2.6832811159025445, 3.2743425399705566, 2.7922086578289522, 1.6344183325076411, 1.2259614798089808, 3.428620931017007] Key Guesses:  [110, 90]\n"
     ]
    },
    {
     "name": "stderr",
     "output_type": "stream",
     "text": [
      "100%|█████████████████████████████████████████████████████████████████████████████████| 256/256 [00:42<00:00,  6.04it/s]\n"
     ]
    },
    {
     "name": "stdout",
     "output_type": "stream",
     "text": [
      "[(0, array([ 96, 164, 144, 211, 147]), array([0.00156519, 0.00172567, 0.00191246, 0.00221018, 0.00593054])), (1, array([226, 109, 209,   2, 125]), array([0.0028281 , 0.00291201, 0.00291674, 0.00367029, 0.01201779])), (2, array([ 51, 187, 143, 195, 184]), array([0.00161766, 0.00176028, 0.00178389, 0.00182456, 0.00509455])), (3, array([ 81, 228, 125,  61, 242]), array([0.00277314, 0.002811  , 0.00290774, 0.00321601, 0.0052563 ])), (8, array([ 95,  47, 159,  63, 110]), array([0.0030019 , 0.00327104, 0.00336725, 0.00348923, 0.00427766])), (9, array([ 87,  89, 141, 120,  90]), array([0.00262169, 0.00281244, 0.00287847, 0.00351882, 0.01206471])), (10, array([199, 214, 169, 255,  37]), array([0.00338978, 0.00339113, 0.00340031, 0.00343701, 0.00399537]))]\n",
      "[1134 1134 1134 1134 1134]\n",
      "Confidence Score:  [2.6832811159025445, 3.2743425399705566, 2.7922086578289522, 1.6344183325076411, 1.2259614798089808, 3.428620931017007, 1.1624564586501966] Key Guesses:  [110, 90, 37]\n"
     ]
    },
    {
     "name": "stderr",
     "output_type": "stream",
     "text": [
      "100%|█████████████████████████████████████████████████████████████████████████████████| 256/256 [00:42<00:00,  6.08it/s]"
     ]
    },
    {
     "name": "stdout",
     "output_type": "stream",
     "text": [
      "[(0, array([ 96, 164, 144, 211, 147]), array([0.00156519, 0.00172567, 0.00191246, 0.00221018, 0.00593054])), (1, array([226, 109, 209,   2, 125]), array([0.0028281 , 0.00291201, 0.00291674, 0.00367029, 0.01201779])), (2, array([ 51, 187, 143, 195, 184]), array([0.00161766, 0.00176028, 0.00178389, 0.00182456, 0.00509455])), (3, array([ 81, 228, 125,  61, 242]), array([0.00277314, 0.002811  , 0.00290774, 0.00321601, 0.0052563 ])), (8, array([ 95,  47, 159,  63, 110]), array([0.0030019 , 0.00327104, 0.00336725, 0.00348923, 0.00427766])), (9, array([ 87,  89, 141, 120,  90]), array([0.00262169, 0.00281244, 0.00287847, 0.00351882, 0.01206471])), (10, array([199, 214, 169, 255,  37]), array([0.00338978, 0.00339113, 0.00340031, 0.00343701, 0.00399537])), (11, array([169,  92, 161, 157, 172]), array([0.00191771, 0.00200447, 0.00200801, 0.00263395, 0.00579721]))]\n",
      "[1143 1143 1143 1143 1142]\n",
      "Confidence Score:  [2.6832811159025445, 3.2743425399705566, 2.7922086578289522, 1.6344183325076411, 1.2259614798089808, 3.428620931017007, 1.1624564586501966, 2.200953823083112] Key Guesses:  [110, 90, 37, 172]\n"
     ]
    },
    {
     "name": "stderr",
     "output_type": "stream",
     "text": [
      "\n"
     ]
    }
   ],
   "source": [
    "# Infer RK1\n",
    "# region to track in the power trace for artefacts from the 1st round\n",
    "'''\n",
    "Bytes 8, 9, a, b:\n",
    "StartPoint = 1100\n",
    "EndPoint = 1400 \n",
    "'''\n",
    "keyGuess = []\n",
    "\n",
    "for i in range(8, 12):\n",
    "    for keyByte in tqdm(range(0, 256)):\n",
    "        for traceNum in range(activeTraces):\n",
    "            if (i % 2 == 0):\n",
    "                interVal = intermediate_1(textArr[traceNum, i], keyByte)\n",
    "            else:\n",
    "                interVal = intermediate_0(textArr[traceNum, i], keyByte)            \n",
    "            HWmatrix[traceNum, keyByte] = HW[interVal]\n",
    "        \n",
    "        hwvec = HWmatrix[:activeTraces, keyByte]\n",
    "        pTrace = powerTrace[:activeTraces, startPoint[offset+2]:endPoint[offset+2]]\n",
    "        corrScore[i, keyByte, startPoint[offset+2]:endPoint[offset+2]] = [np.abs(linregress(hwvec, pTrace[:, point]).slope) \\\n",
    "                                                      for point in range(endPoint[offset+2] - startPoint[offset+2])]\n",
    "        \n",
    "    maxScoreVec = corrScore[i].max(axis=1)    #maxScore across tracePoints for each guess\n",
    "    top5idx = maxScoreVec.argsort()[-5:]\n",
    "    confScore.append(maxScoreVec[top5idx][-1] / maxScoreVec[top5idx][-2])\n",
    "    guessTop5.append((i, top5idx, maxScoreVec[top5idx]))\n",
    "    keyGuess.append(top5idx[-1])\n",
    "    print(guessTop5)\n",
    "    print(corrScore[i].argmax(axis=1)[top5idx])\n",
    "    print(\"Confidence Score: \", confScore, \"Key Guesses: \", keyGuess)\n",
    "\n",
    "if (attackType == \"first\"):\n",
    "    fileName = \"../data/keys/RK1\"\n",
    "else:\n",
    "    fileName = \"../data/keys/RK35\"\n",
    "#np.save(fileName, keyGuess)"
   ]
  },
  {
   "cell_type": "code",
   "execution_count": 14,
   "metadata": {},
   "outputs": [
    {
     "name": "stderr",
     "output_type": "stream",
     "text": [
      "100%|█████████████████████████████████████████████████████████████████████████████████| 256/256 [02:02<00:00,  2.09it/s]\n"
     ]
    },
    {
     "name": "stdout",
     "output_type": "stream",
     "text": [
      "[(0, array([181, 113,  69,   6,  70]), array([0.00146726, 0.00184267, 0.00201281, 0.00207967, 0.00597354])), (1, array([106, 140, 204, 138, 245]), array([0.00286374, 0.00290569, 0.00311929, 0.00369776, 0.01208208])), (2, array([ 34,  11, 115, 167, 112]), array([0.00161837, 0.00171436, 0.0017528 , 0.0019374 , 0.00490478])), (3, array([103, 190,  39,  11, 168]), array([0.00289022, 0.00301086, 0.00313587, 0.00317269, 0.00527854])), (4, array([ 80, 187,  68,  84, 171]), array([0.00606235, 0.00613396, 0.00613396, 0.00792148, 0.00792148])), (5, array([171,  47, 208, 212,  43]), array([0.0066376 , 0.0066806 , 0.0066806 , 0.00860659, 0.00860659])), (6, array([ 69, 188,  67,  65, 190]), array([0.00629758, 0.00660596, 0.00660596, 0.00820421, 0.00820421])), (7, array([ 40, 209,  46, 211,  44]), array([0.00631775, 0.00661018, 0.00661018, 0.00815771, 0.00815771])), (8, array([155,  11, 187,  27,  74]), array([0.00289626, 0.00317744, 0.00327369, 0.0034537 , 0.00413766])), (9, array([  6,  85, 210, 243, 209]), array([0.00287644, 0.00291826, 0.0030736 , 0.00368394, 0.01248871])), (10, array([ 38,  49,  30,  72, 196]), array([0.00321918, 0.00328682, 0.00344039, 0.00357977, 0.00412714])), (11, array([195,   2,  59, 238,  51]), array([0.0022524 , 0.00226644, 0.00229301, 0.00239664, 0.00589651])), (12, array([204,  39, 216, 200,  55]), array([0.00612259, 0.00612836, 0.00612836, 0.00791442, 0.00791442]))]\n",
      "[16515 16515 16515 16515 16515]\n",
      "Confidence Score:  [2.8723478497279666, 3.267407142818432, 2.53162781007655, 1.663743498599343, 1.2914129396310787, 1.2882961329300187, 1.2419416891038666, 1.2341131783008417, 1.198037538782335, 3.3900467872842874, 1.1529058830389558, 2.460323474377792, 1.291441710544859] Key Guesses:  [55]\n"
     ]
    },
    {
     "name": "stderr",
     "output_type": "stream",
     "text": [
      "100%|█████████████████████████████████████████████████████████████████████████████████| 256/256 [02:22<00:00,  1.80it/s]\n"
     ]
    },
    {
     "name": "stdout",
     "output_type": "stream",
     "text": [
      "[(0, array([181, 113,  69,   6,  70]), array([0.00146726, 0.00184267, 0.00201281, 0.00207967, 0.00597354])), (1, array([106, 140, 204, 138, 245]), array([0.00286374, 0.00290569, 0.00311929, 0.00369776, 0.01208208])), (2, array([ 34,  11, 115, 167, 112]), array([0.00161837, 0.00171436, 0.0017528 , 0.0019374 , 0.00490478])), (3, array([103, 190,  39,  11, 168]), array([0.00289022, 0.00301086, 0.00313587, 0.00317269, 0.00527854])), (4, array([ 80, 187,  68,  84, 171]), array([0.00606235, 0.00613396, 0.00613396, 0.00792148, 0.00792148])), (5, array([171,  47, 208, 212,  43]), array([0.0066376 , 0.0066806 , 0.0066806 , 0.00860659, 0.00860659])), (6, array([ 69, 188,  67,  65, 190]), array([0.00629758, 0.00660596, 0.00660596, 0.00820421, 0.00820421])), (7, array([ 40, 209,  46, 211,  44]), array([0.00631775, 0.00661018, 0.00661018, 0.00815771, 0.00815771])), (8, array([155,  11, 187,  27,  74]), array([0.00289626, 0.00317744, 0.00327369, 0.0034537 , 0.00413766])), (9, array([  6,  85, 210, 243, 209]), array([0.00287644, 0.00291826, 0.0030736 , 0.00368394, 0.01248871])), (10, array([ 38,  49,  30,  72, 196]), array([0.00321918, 0.00328682, 0.00344039, 0.00357977, 0.00412714])), (11, array([195,   2,  59, 238,  51]), array([0.0022524 , 0.00226644, 0.00229301, 0.00239664, 0.00589651])), (12, array([204,  39, 216, 200,  55]), array([0.00612259, 0.00612836, 0.00612836, 0.00791442, 0.00791442])), (13, array([ 45,  33, 222,  37, 218]), array([0.00648679, 0.0065954 , 0.0065954 , 0.00848299, 0.00848299]))]\n",
      "[16528 16765 16765 16765 16765]\n",
      "Confidence Score:  [2.8723478497279666, 3.267407142818432, 2.53162781007655, 1.663743498599343, 1.2914129396310787, 1.2882961329300187, 1.2419416891038666, 1.2341131783008417, 1.198037538782335, 3.3900467872842874, 1.1529058830389558, 2.460323474377792, 1.291441710544859, 1.2861990607005023] Key Guesses:  [55, 218]\n"
     ]
    },
    {
     "name": "stderr",
     "output_type": "stream",
     "text": [
      "100%|█████████████████████████████████████████████████████████████████████████████████| 256/256 [02:08<00:00,  2.00it/s]\n"
     ]
    },
    {
     "name": "stdout",
     "output_type": "stream",
     "text": [
      "[(0, array([181, 113,  69,   6,  70]), array([0.00146726, 0.00184267, 0.00201281, 0.00207967, 0.00597354])), (1, array([106, 140, 204, 138, 245]), array([0.00286374, 0.00290569, 0.00311929, 0.00369776, 0.01208208])), (2, array([ 34,  11, 115, 167, 112]), array([0.00161837, 0.00171436, 0.0017528 , 0.0019374 , 0.00490478])), (3, array([103, 190,  39,  11, 168]), array([0.00289022, 0.00301086, 0.00313587, 0.00317269, 0.00527854])), (4, array([ 80, 187,  68,  84, 171]), array([0.00606235, 0.00613396, 0.00613396, 0.00792148, 0.00792148])), (5, array([171,  47, 208, 212,  43]), array([0.0066376 , 0.0066806 , 0.0066806 , 0.00860659, 0.00860659])), (6, array([ 69, 188,  67,  65, 190]), array([0.00629758, 0.00660596, 0.00660596, 0.00820421, 0.00820421])), (7, array([ 40, 209,  46, 211,  44]), array([0.00631775, 0.00661018, 0.00661018, 0.00815771, 0.00815771])), (8, array([155,  11, 187,  27,  74]), array([0.00289626, 0.00317744, 0.00327369, 0.0034537 , 0.00413766])), (9, array([  6,  85, 210, 243, 209]), array([0.00287644, 0.00291826, 0.0030736 , 0.00368394, 0.01248871])), (10, array([ 38,  49,  30,  72, 196]), array([0.00321918, 0.00328682, 0.00344039, 0.00357977, 0.00412714])), (11, array([195,   2,  59, 238,  51]), array([0.0022524 , 0.00226644, 0.00229301, 0.00239664, 0.00589651])), (12, array([204,  39, 216, 200,  55]), array([0.00612259, 0.00612836, 0.00612836, 0.00791442, 0.00791442])), (13, array([ 45,  33, 222,  37, 218]), array([0.00648679, 0.0065954 , 0.0065954 , 0.00848299, 0.00848299])), (14, array([200,  61, 194,  63, 192]), array([0.00616918, 0.00654445, 0.00654445, 0.00813046, 0.00813046]))]\n",
      "[16778 16778 16778 16778 16778]\n",
      "Confidence Score:  [2.8723478497279666, 3.267407142818432, 2.53162781007655, 1.663743498599343, 1.2914129396310787, 1.2882961329300187, 1.2419416891038666, 1.2341131783008417, 1.198037538782335, 3.3900467872842874, 1.1529058830389558, 2.460323474377792, 1.291441710544859, 1.2861990607005023, 1.2423448141591573] Key Guesses:  [55, 218, 192]\n"
     ]
    },
    {
     "name": "stderr",
     "output_type": "stream",
     "text": [
      "100%|█████████████████████████████████████████████████████████████████████████████████| 256/256 [02:13<00:00,  1.92it/s]"
     ]
    },
    {
     "name": "stdout",
     "output_type": "stream",
     "text": [
      "[(0, array([181, 113,  69,   6,  70]), array([0.00146726, 0.00184267, 0.00201281, 0.00207967, 0.00597354])), (1, array([106, 140, 204, 138, 245]), array([0.00286374, 0.00290569, 0.00311929, 0.00369776, 0.01208208])), (2, array([ 34,  11, 115, 167, 112]), array([0.00161837, 0.00171436, 0.0017528 , 0.0019374 , 0.00490478])), (3, array([103, 190,  39,  11, 168]), array([0.00289022, 0.00301086, 0.00313587, 0.00317269, 0.00527854])), (4, array([ 80, 187,  68,  84, 171]), array([0.00606235, 0.00613396, 0.00613396, 0.00792148, 0.00792148])), (5, array([171,  47, 208, 212,  43]), array([0.0066376 , 0.0066806 , 0.0066806 , 0.00860659, 0.00860659])), (6, array([ 69, 188,  67,  65, 190]), array([0.00629758, 0.00660596, 0.00660596, 0.00820421, 0.00820421])), (7, array([ 40, 209,  46, 211,  44]), array([0.00631775, 0.00661018, 0.00661018, 0.00815771, 0.00815771])), (8, array([155,  11, 187,  27,  74]), array([0.00289626, 0.00317744, 0.00327369, 0.0034537 , 0.00413766])), (9, array([  6,  85, 210, 243, 209]), array([0.00287644, 0.00291826, 0.0030736 , 0.00368394, 0.01248871])), (10, array([ 38,  49,  30,  72, 196]), array([0.00321918, 0.00328682, 0.00344039, 0.00357977, 0.00412714])), (11, array([195,   2,  59, 238,  51]), array([0.0022524 , 0.00226644, 0.00229301, 0.00239664, 0.00589651])), (12, array([204,  39, 216, 200,  55]), array([0.00612259, 0.00612836, 0.00612836, 0.00791442, 0.00791442])), (13, array([ 45,  33, 222,  37, 218]), array([0.00648679, 0.0065954 , 0.0065954 , 0.00848299, 0.00848299])), (14, array([200,  61, 194,  63, 192]), array([0.00616918, 0.00654445, 0.00654445, 0.00813046, 0.00813046])), (15, array([179,  74, 181,  72, 183]), array([0.00614947, 0.00644847, 0.00644847, 0.00805053, 0.00805053]))]\n",
      "[16791 16791 16791 16791 16791]\n",
      "Confidence Score:  [2.8723478497279666, 3.267407142818432, 2.53162781007655, 1.663743498599343, 1.2914129396310787, 1.2882961329300187, 1.2419416891038666, 1.2341131783008417, 1.198037538782335, 3.3900467872842874, 1.1529058830389558, 2.460323474377792, 1.291441710544859, 1.2861990607005023, 1.2423448141591573, 1.2484403767535253] Key Guesses:  [55, 218, 192, 183]\n"
     ]
    },
    {
     "name": "stderr",
     "output_type": "stream",
     "text": [
      "\n"
     ]
    }
   ],
   "source": [
    "# Infer WK1:\n",
    "# region to track in the power trace for artefacts from the 1st round\n",
    "'''\n",
    "Bytes 4-7, c-f:\n",
    "StartPoint = 400\n",
    "EndPoint = 800 \n",
    "'''\n",
    "keyGuess = []\n",
    "\n",
    "\n",
    "for i in range(12, 16):\n",
    "    for keyByte in tqdm(range(0, 256)):\n",
    "        for traceNum in range(activeTraces):\n",
    "            interVal = intermediate_xor(textArr[traceNum, i], keyByte)\n",
    "            HWmatrix[traceNum, keyByte] = HW[interVal]\n",
    "       \n",
    "        hwvec = HWmatrix[:activeTraces, keyByte]\n",
    "        pTrace = powerTrace[:activeTraces, startPoint[offset+1]:endPoint[offset+1]]\n",
    "        corrScore[i, keyByte, startPoint[offset+1]:endPoint[offset+1]] = [np.abs(linregress(hwvec, pTrace[:, point]).slope) \\\n",
    "                                                      for point in range(endPoint[offset+1] - startPoint[offset+1])]\n",
    "        \n",
    "    maxScoreVec = corrScore[i].max(axis=1)    #maxScore across tracePoints for each guess\n",
    "    top5idx = maxScoreVec.argsort()[-5:]\n",
    "    confScore.append(maxScoreVec[top5idx][-1] / maxScoreVec[top5idx][-3]) # top-2 guesses are 1's complements of each other\n",
    "    guessTop5.append((i, top5idx, maxScoreVec[top5idx]))\n",
    "    keyGuess.append(top5idx[-1])\n",
    "    print(guessTop5)\n",
    "    print(corrScore[i].argmax(axis=1)[top5idx])\n",
    "    print(\"Confidence Score: \", confScore, \"Key Guesses: \", keyGuess)\n",
    "    \n",
    "if (attackType == \"first\"):\n",
    "    fileName = \"../data/keys/WK1_probable\"\n",
    "else:\n",
    "    fileName = \"../data/keys/WK3_probable\"\n",
    "#np.save(fileName, keyGuess)"
   ]
  },
  {
   "cell_type": "markdown",
   "metadata": {},
   "source": [
    "### Second Round Attack\n",
    "\n",
    "Intermediate Value = output of first round ^ keyGuess"
   ]
  },
  {
   "cell_type": "code",
   "execution_count": 33,
   "metadata": {},
   "outputs": [],
   "source": [
    "# CPA at T-table output:\n",
    "def tf00(inp):\n",
    "    return tf00Arr[inp]\n",
    "\n",
    "def tf01(inp):\n",
    "    return tf01Arr[inp]\n",
    "\n",
    "def tf02(inp):\n",
    "    return tf02Arr[inp]\n",
    "\n",
    "def tf03(inp):\n",
    "    return tf03Arr[inp]\n",
    "\n",
    "def tf10(inp):\n",
    "    return tf10Arr[inp]\n",
    "\n",
    "def tf11(inp):\n",
    "    return tf11Arr[inp]\n",
    "\n",
    "def tf12(inp):\n",
    "    return tf12Arr[inp]\n",
    "\n",
    "def tf13(inp):\n",
    "    return tf13Arr[inp]\n",
    "\n",
    "def f0(inpBytes, keyBytes):\n",
    "    return tf00(inpBytes[0] ^ keyBytes[0]) ^ tf01(inpBytes[1] ^ keyBytes[1]) ^ tf02(inpBytes[2] ^ keyBytes[2]) ^ tf03(inpBytes[3] ^ keyBytes[3])\n",
    "\n",
    "def f1(inpBytes, keyBytes):\n",
    "    return tf10(inpBytes[0] ^ keyBytes[0]) ^ tf11(inpBytes[1] ^ keyBytes[1]) ^ tf12(inpBytes[2] ^ keyBytes[2]) ^ tf13(inpBytes[3] ^ keyBytes[3])\n",
    "\n",
    "rk0 = np.load(\"../data/keys/RK0.npy\", \"r\")\n",
    "rk1 = np.load(\"../data/keys/RK1.npy\", \"r\")\n",
    "wk0 = np.load(\"../data/keys/WK0_probable.npy\", \"r\")\n",
    "wk1 = np.load(\"../data/keys/WK1_probable.npy\", \"r\")\n",
    "wk2 = np.load(\"../data/keys/WK2_probable.npy\", \"r\")\n",
    "wk3 = np.load(\"../data/keys/WK3_probable.npy\", \"r\")\n",
    "\n",
    "def intermediate_rk2(pt0Bytes, rk0Bytes, pt1Byte, bytePos):\n",
    "    return (f0(pt0Bytes, rk0Bytes) >> bytePos) & (0xFF) ^ pt1Byte\n",
    "\n",
    "def intermediate_rk3(pt2Bytes, rk1Bytes, pt3Byte, bytePos):\n",
    "    return (f1(pt2Bytes, rk1Bytes) >> bytePos) & (0xFF) ^ pt3Byte\n"
   ]
  },
  {
   "cell_type": "code",
   "execution_count": 37,
   "metadata": {},
   "outputs": [
    {
     "name": "stdout",
     "output_type": "stream",
     "text": [
      "12000\n"
     ]
    }
   ],
   "source": [
    "keyGuess = []\n",
    "guessTop5 = []\n",
    "confScore = []\n",
    "totTraces, numPoints = powerTrace.shape\n",
    "alpha = 1.0\n",
    "activeTraces = int(alpha * totTraces)\n",
    "print(activeTraces)\n",
    "\n",
    "# region to track in the power trace for artefacts from the 1st round\n",
    "startPoint = 1800\n",
    "endPoint = 2800\n",
    "'''\n",
    "Bytes 0, 1, 2, 3:\n",
    "StartPoint = 800\n",
    "EndPoint = 1000 \n",
    "\n",
    "Bytes 4-7, c-f:\n",
    "StartPoint = 400\n",
    "EndPoint = 800 \n",
    "\n",
    "Bytes 8, 9, a, b:\n",
    "StartPoint = 1100\n",
    "EndPoint = 1400?\n",
    "'''\n",
    "HWmatrix = np.zeros((totTraces, 256), dtype= np.uint8)\n",
    "corrScore = np.zeros((16, 256, numPoints))"
   ]
  },
  {
   "cell_type": "code",
   "execution_count": null,
   "metadata": {},
   "outputs": [
    {
     "name": "stderr",
     "output_type": "stream",
     "text": [
      " 92%|██████████████████████████████████████████████████████████████████████████▎      | 235/256 [05:01<01:28,  4.20s/it]"
     ]
    }
   ],
   "source": [
    "for i in range(0, 4):\n",
    "    for keyByte in tqdm(range(0, 256)):\n",
    "        for traceNum in range(activeTraces):\n",
    "\n",
    "            inp_to_SBox = intermediate_rk2(textInp[traceNum, 0:4], rk0, textInp[traceNum, 4+i], 8 * i)\n",
    "            #\n",
    "            if (i % 2 == 0):\n",
    "                interVal = intermediate_0(inp_to_SBox, keyByte)\n",
    "            else:\n",
    "                interVal = intermediate_1(inp_to_SBox, keyByte)\n",
    "            HWmatrix[traceNum, keyByte] = HW[interVal]\n",
    "        \n",
    "        hwvec = HWmatrix[:activeTraces, keyByte]\n",
    "        pTrace = powerTrace[:activeTraces, startPoint:endPoint]\n",
    "        corrScore[i, keyByte, startPoint:endPoint] = [np.abs(linregress(hwvec, pTrace[:, point]).slope) \\\n",
    "                                                      for point in range(endPoint - startPoint)]\n",
    "    \n",
    "    maxScoreVec = corrScore[i].max(axis=1)    #maxScore across tracePoints for each guess\n",
    "    top5idx = maxScoreVec.argsort()[-5:]\n",
    "    confScore.append(maxScoreVec[top5idx][-1] / maxScoreVec[top5idx][-2])\n",
    "    guessTop5.append((i, top5idx, maxScoreVec[top5idx]))\n",
    "    keyGuess.append(top5idx[-1])\n",
    "    print(guessTop5)\n",
    "    print(corrScore[i].argmax(axis=1)[top5idx])\n",
    "    print(\"Confidence Score: \", confScore, \"Key Guesses: \", keyGuess)"
   ]
  },
  {
   "cell_type": "code",
   "execution_count": null,
   "metadata": {},
   "outputs": [],
   "source": [
    "for i in range(8, 12):\n",
    "    for keyByte in tqdm(range(0, 256)):\n",
    "        for traceNum in range(activeTraces):\n",
    "\n",
    "            inp_to_SBox = intermediate_rk3(textInp[traceNum, 8:12], rk1, textInp[traceNum, 4+i], 8 * (i - 8))\n",
    "            #\n",
    "            if (i % 2 == 0):\n",
    "                interVal = intermediate_1(inp_to_SBox, keyByte)\n",
    "            else:\n",
    "                interVal = intermediate_0(inp_to_SBox, keyByte)\n",
    "            HWmatrix[traceNum, keyByte] = HW[interVal]\n",
    "        \n",
    "        hwvec = HWmatrix[:activeTraces, keyByte]\n",
    "        pTrace = powerTrace[:activeTraces, startPoint:endPoint]\n",
    "        corrScore[i, keyByte, startPoint:endPoint] = [np.abs(linregress(hwvec, pTrace[:, point]).slope) \\\n",
    "                                                      for point in range(endPoint - startPoint)]\n",
    "    \n",
    "    maxScoreVec = corrScore[i].max(axis=1)    #maxScore across tracePoints for each guess\n",
    "    top5idx = maxScoreVec.argsort()[-5:]\n",
    "    confScore.append(maxScoreVec[top5idx][-1] / maxScoreVec[top5idx][-2])\n",
    "    guessTop5.append((i, top5idx, maxScoreVec[top5idx]))\n",
    "    keyGuess.append(top5idx[-1])\n",
    "    print(guessTop5)\n",
    "    print(corrScore[i].argmax(axis=1)[top5idx])\n",
    "    print(\"Confidence Score: \", confScore, \"Key Guesses: \", keyGuess)"
   ]
  },
  {
   "cell_type": "markdown",
   "metadata": {},
   "source": [
    "### Getting all Keys from the Whitening Keys\n",
    "\n",
    "Since the first and last round attacks give us the whitenining keys, it is possible to generate the entire key set using this information. The catch here however is that, for each byte of the whitening key, there are two potential contenders- key $K$ and its one's complement $\\overline{K}$. Hence to find the correct whitening key, we need to perform a search over a space of $2^{16}$ keys and check which combination of WK's result in the round keys RK0, RK1 predicted by CPA. \n",
    "\n",
    "The intermediate result used in extracting the Whitening Keys is $XOR(PT, WK)$. Hence, if the HW of the intermediate result for key guess $K$ is $h$, the HW when $\\overline{K}$ is used will be $8-h$. This means that if $K$ results in a correlation score of $m$ (= slope of linear fit), $\\overline{K}$ will correspond to a slope of $-m$, i.e.- both have the same correlation score."
   ]
  },
  {
   "cell_type": "code",
   "execution_count": null,
   "metadata": {},
   "outputs": [],
   "source": [
    "# Search for correct whitening keys amongst 2^16 potential candidates\n",
    "for itn in range(1 << 16):\n",
    "    \n",
    "    "
   ]
  },
  {
   "cell_type": "markdown",
   "metadata": {},
   "source": [
    "### Targeting the T-table outputs\n",
    "\n",
    "Repeating attack taking the T table output as the intermediate result (for RK0 and RK1). \n",
    "\n",
    "**Inferences:**\n",
    "- In most cases, the Top-1 key guess of the S Box attack matches the Top-1 guess of the T Table Attack\n",
    "- The S Box attack gives a clearer distinguisher than the T Table attack\n",
    "- In a couple of cases, the Top-1 key guesses differed. However, the Top-1 key guess of the S Box was present in the Top-5 guesses of the T Table attack. Further, the different between the correlation scores amongst the Top-5 guesses of the T Table was small."
   ]
  },
  {
   "cell_type": "code",
   "execution_count": 94,
   "metadata": {},
   "outputs": [
    {
     "name": "stdout",
     "output_type": "stream",
     "text": [
      "12000\n"
     ]
    }
   ],
   "source": [
    "keyGuess = []\n",
    "guessTop5 = []\n",
    "confScore = []\n",
    "totTraces, numPoints = powerTrace.shape\n",
    "alpha = 1.0\n",
    "activeTraces = int(alpha * totTraces)\n",
    "print(activeTraces)\n",
    "\n",
    "# region to track in the power trace for artefacts from the 1st round\n",
    "startPoint = 800\n",
    "#winSize = 1000\n",
    "#winStride = 1800\n",
    "endPoint = 1200\n",
    "'''\n",
    "Bytes 0, 1, 2, 3:\n",
    "StartPoint = 800\n",
    "EndPoint = 1000 \n",
    "\n",
    "Bytes 4-7, c-f:\n",
    "StartPoint = 400\n",
    "EndPoint = 800 \n",
    "\n",
    "Bytes 8, 9, a, b:\n",
    "StartPoint = 1100\n",
    "EndPoint = 1400?\n",
    "'''\n",
    "HWmatrix = np.zeros((totTraces, 256), dtype= np.uint8)\n",
    "corrScore = np.zeros((16, 256, numPoints))"
   ]
  },
  {
   "cell_type": "code",
   "execution_count": 95,
   "metadata": {},
   "outputs": [
    {
     "name": "stderr",
     "output_type": "stream",
     "text": [
      "100%|█████████████████████████████████████████████████████████████████████████████████| 256/256 [01:30<00:00,  2.82it/s]\n"
     ]
    },
    {
     "name": "stdout",
     "output_type": "stream",
     "text": [
      "[(0, array([148,   7,  70, 136, 147]), array([0.00062924, 0.00063208, 0.00063489, 0.00066194, 0.00088497]))]\n",
      "[807 806 806 807 806]\n",
      "Confidence Score:  [1.3369366184015197] Key Guesses:  [147]\n"
     ]
    },
    {
     "name": "stderr",
     "output_type": "stream",
     "text": [
      "100%|█████████████████████████████████████████████████████████████████████████████████| 256/256 [01:45<00:00,  2.42it/s]\n"
     ]
    },
    {
     "name": "stdout",
     "output_type": "stream",
     "text": [
      "[(0, array([148,   7,  70, 136, 147]), array([0.00062924, 0.00063208, 0.00063489, 0.00066194, 0.00088497])), (1, array([129, 207,  86, 226, 125]), array([0.00086934, 0.00092579, 0.00093786, 0.00096337, 0.00128703]))]\n",
      "[812 812 814 814 814]\n",
      "Confidence Score:  [1.3369366184015197, 1.335970244131087] Key Guesses:  [147, 125]\n"
     ]
    },
    {
     "name": "stderr",
     "output_type": "stream",
     "text": [
      "100%|█████████████████████████████████████████████████████████████████████████████████| 256/256 [02:27<00:00,  1.73it/s]\n"
     ]
    },
    {
     "name": "stdout",
     "output_type": "stream",
     "text": [
      "[(0, array([148,   7,  70, 136, 147]), array([0.00062924, 0.00063208, 0.00063489, 0.00066194, 0.00088497])), (1, array([129, 207,  86, 226, 125]), array([0.00086934, 0.00092579, 0.00093786, 0.00096337, 0.00128703])), (2, array([ 96, 172, 160, 184, 247]), array([0.00090684, 0.00090998, 0.0009971 , 0.00123782, 0.00126662]))]\n",
      "[822 822 822 821 822]\n",
      "Confidence Score:  [1.3369366184015197, 1.335970244131087, 1.0232654245667625] Key Guesses:  [147, 125, 247]\n"
     ]
    },
    {
     "name": "stderr",
     "output_type": "stream",
     "text": [
      "100%|█████████████████████████████████████████████████████████████████████████████████| 256/256 [02:42<00:00,  1.58it/s]\n"
     ]
    },
    {
     "name": "stdout",
     "output_type": "stream",
     "text": [
      "[(0, array([148,   7,  70, 136, 147]), array([0.00062924, 0.00063208, 0.00063489, 0.00066194, 0.00088497])), (1, array([129, 207,  86, 226, 125]), array([0.00086934, 0.00092579, 0.00093786, 0.00096337, 0.00128703])), (2, array([ 96, 172, 160, 184, 247]), array([0.00090684, 0.00090998, 0.0009971 , 0.00123782, 0.00126662])), (3, array([133, 235, 107, 142, 242]), array([0.00082666, 0.00086552, 0.0008766 , 0.00100056, 0.00105307]))]\n",
      "[831 831 831 831 831]\n",
      "Confidence Score:  [1.3369366184015197, 1.335970244131087, 1.0232654245667625, 1.0524818624489094] Key Guesses:  [147, 125, 247, 242]\n"
     ]
    },
    {
     "name": "stderr",
     "output_type": "stream",
     "text": [
      "100%|█████████████████████████████████████████████████████████████████████████████████| 256/256 [02:48<00:00,  1.52it/s]\n"
     ]
    },
    {
     "name": "stdout",
     "output_type": "stream",
     "text": [
      "[(0, array([148,   7,  70, 136, 147]), array([0.00062924, 0.00063208, 0.00063489, 0.00066194, 0.00088497])), (1, array([129, 207,  86, 226, 125]), array([0.00086934, 0.00092579, 0.00093786, 0.00096337, 0.00128703])), (2, array([ 96, 172, 160, 184, 247]), array([0.00090684, 0.00090998, 0.0009971 , 0.00123782, 0.00126662])), (3, array([133, 235, 107, 142, 242]), array([0.00082666, 0.00086552, 0.0008766 , 0.00100056, 0.00105307])), (8, array([182,  64, 192, 138, 110]), array([0.00085332, 0.00086713, 0.00088667, 0.0009183 , 0.00095467]))]\n",
      "[1119 1119 1119 1119 1118]\n",
      "Confidence Score:  [1.3369366184015197, 1.335970244131087, 1.0232654245667625, 1.0524818624489094, 1.0396094334233623] Key Guesses:  [147, 125, 247, 242, 110]\n"
     ]
    },
    {
     "name": "stderr",
     "output_type": "stream",
     "text": [
      "100%|█████████████████████████████████████████████████████████████████████████████████| 256/256 [02:08<00:00,  2.00it/s]\n"
     ]
    },
    {
     "name": "stdout",
     "output_type": "stream",
     "text": [
      "[(0, array([148,   7,  70, 136, 147]), array([0.00062924, 0.00063208, 0.00063489, 0.00066194, 0.00088497])), (1, array([129, 207,  86, 226, 125]), array([0.00086934, 0.00092579, 0.00093786, 0.00096337, 0.00128703])), (2, array([ 96, 172, 160, 184, 247]), array([0.00090684, 0.00090998, 0.0009971 , 0.00123782, 0.00126662])), (3, array([133, 235, 107, 142, 242]), array([0.00082666, 0.00086552, 0.0008766 , 0.00100056, 0.00105307])), (8, array([182,  64, 192, 138, 110]), array([0.00085332, 0.00086713, 0.00088667, 0.0009183 , 0.00095467])), (9, array([ 40, 143,  68,  26,  90]), array([0.0009583 , 0.00098972, 0.00127781, 0.00140123, 0.00140186]))]\n",
      "[1124 1126 1126 1126 1126]\n",
      "Confidence Score:  [1.3369366184015197, 1.335970244131087, 1.0232654245667625, 1.0524818624489094, 1.0396094334233623, 1.0004498697612723] Key Guesses:  [147, 125, 247, 242, 110, 90]\n"
     ]
    },
    {
     "name": "stderr",
     "output_type": "stream",
     "text": [
      "100%|█████████████████████████████████████████████████████████████████████████████████| 256/256 [01:50<00:00,  2.31it/s]\n"
     ]
    },
    {
     "name": "stdout",
     "output_type": "stream",
     "text": [
      "[(0, array([148,   7,  70, 136, 147]), array([0.00062924, 0.00063208, 0.00063489, 0.00066194, 0.00088497])), (1, array([129, 207,  86, 226, 125]), array([0.00086934, 0.00092579, 0.00093786, 0.00096337, 0.00128703])), (2, array([ 96, 172, 160, 184, 247]), array([0.00090684, 0.00090998, 0.0009971 , 0.00123782, 0.00126662])), (3, array([133, 235, 107, 142, 242]), array([0.00082666, 0.00086552, 0.0008766 , 0.00100056, 0.00105307])), (8, array([182,  64, 192, 138, 110]), array([0.00085332, 0.00086713, 0.00088667, 0.0009183 , 0.00095467])), (9, array([ 40, 143,  68,  26,  90]), array([0.0009583 , 0.00098972, 0.00127781, 0.00140123, 0.00140186])), (10, array([ 61, 173,  37,  88,  92]), array([0.0008957 , 0.000919  , 0.00093125, 0.00093792, 0.00113051]))]\n",
      "[1134 1134 1133 1134 1134]\n",
      "Confidence Score:  [1.3369366184015197, 1.335970244131087, 1.0232654245667625, 1.0524818624489094, 1.0396094334233623, 1.0004498697612723, 1.2053337124264385] Key Guesses:  [147, 125, 247, 242, 110, 90, 92]\n"
     ]
    },
    {
     "name": "stderr",
     "output_type": "stream",
     "text": [
      "100%|█████████████████████████████████████████████████████████████████████████████████| 256/256 [02:09<00:00,  1.98it/s]"
     ]
    },
    {
     "name": "stdout",
     "output_type": "stream",
     "text": [
      "[(0, array([148,   7,  70, 136, 147]), array([0.00062924, 0.00063208, 0.00063489, 0.00066194, 0.00088497])), (1, array([129, 207,  86, 226, 125]), array([0.00086934, 0.00092579, 0.00093786, 0.00096337, 0.00128703])), (2, array([ 96, 172, 160, 184, 247]), array([0.00090684, 0.00090998, 0.0009971 , 0.00123782, 0.00126662])), (3, array([133, 235, 107, 142, 242]), array([0.00082666, 0.00086552, 0.0008766 , 0.00100056, 0.00105307])), (8, array([182,  64, 192, 138, 110]), array([0.00085332, 0.00086713, 0.00088667, 0.0009183 , 0.00095467])), (9, array([ 40, 143,  68,  26,  90]), array([0.0009583 , 0.00098972, 0.00127781, 0.00140123, 0.00140186])), (10, array([ 61, 173,  37,  88,  92]), array([0.0008957 , 0.000919  , 0.00093125, 0.00093792, 0.00113051])), (11, array([  9,  50, 215,  76, 172]), array([0.00119592, 0.00120316, 0.00121724, 0.00122118, 0.0021932 ]))]\n",
      "[1143 1143 1143 1143 1143]\n",
      "Confidence Score:  [1.3369366184015197, 1.335970244131087, 1.0232654245667625, 1.0524818624489094, 1.0396094334233623, 1.0004498697612723, 1.2053337124264385, 1.7959669981156288] Key Guesses:  [147, 125, 247, 242, 110, 90, 92, 172]\n"
     ]
    },
    {
     "name": "stderr",
     "output_type": "stream",
     "text": [
      "\n"
     ]
    }
   ],
   "source": [
    "#for i in range(0, 16):\n",
    "for i in [0, 1, 2, 3, 8, 9, 10, 11]:\n",
    "    for keyByte in tqdm(range(0, 256)):\n",
    "        for traceNum in range(activeTraces):\n",
    "            if (i == 0):  \n",
    "                interVal = tf00(textInp[traceNum, i] ^ keyByte)\n",
    "            elif (i == 1):\n",
    "                interVal = tf01(textInp[traceNum, i] ^ keyByte)\n",
    "            elif (i == 2):\n",
    "                interVal = tf02(textInp[traceNum, i] ^ keyByte)\n",
    "            elif (i == 3):\n",
    "                interVal = tf03(textInp[traceNum, i] ^ keyByte)\n",
    "            elif (i == 8):\n",
    "                interVal = tf10(textInp[traceNum, i] ^ keyByte)\n",
    "            elif (i == 9):\n",
    "                interVal = tf11(textInp[traceNum, i] ^ keyByte)\n",
    "            elif (i == 10):\n",
    "                interVal = tf12(textInp[traceNum, i] ^ keyByte)\n",
    "            elif (i == 11):\n",
    "                interVal = tf13(textInp[traceNum, i] ^ keyByte)\n",
    "            else:\n",
    "                interVal = intermediate_xor(textInp[traceNum, i], keyByte)\n",
    "            #HWmatrix[traceNum, keyByte] = HW[interVal]\n",
    "            HWmatrix[traceNum, keyByte] = bin(interVal).count(\"1\")\n",
    "       \n",
    "        #for tracePoint in range(startPoint + i*winStride, startPoint + i*winStride + winSize):\n",
    "        hwvec = HWmatrix[:activeTraces, keyByte]\n",
    "        pTrace = powerTrace[:activeTraces, startPoint:endPoint]\n",
    "        corrScore[i, keyByte, startPoint:endPoint] = [np.abs(linregress(hwvec, pTrace[:, point]).slope) \\\n",
    "                                                      for point in range(endPoint - startPoint)]\n",
    "        '''\n",
    "        for tracePoint in range(startPoint, endPoint):\n",
    "            hwvec = HWmatrix[:activeTraces, keyByte]\n",
    "            pTrace = powerTrace[:activeTraces, tracePoint]\n",
    "            corrScore[i, keyByte, tracePoint] = np.abs(linregress(hwvec, pTrace).slope)\n",
    "        '''\n",
    "        \n",
    "    maxScoreVec = corrScore[i].max(axis=1)    #maxScore across tracePoints for each guess\n",
    "    top5idx = maxScoreVec.argsort()[-5:]\n",
    "    confScore.append(maxScoreVec[top5idx][-1] / maxScoreVec[top5idx][-2])\n",
    "    guessTop5.append((i, top5idx, maxScoreVec[top5idx]))\n",
    "    keyGuess.append(top5idx[-1])\n",
    "    print(guessTop5)\n",
    "    print(corrScore[i].argmax(axis=1)[top5idx])\n",
    "    print(\"Confidence Score: \", confScore, \"Key Guesses: \", keyGuess)\n",
    "            "
   ]
  },
  {
   "cell_type": "code",
   "execution_count": 1,
   "metadata": {},
   "outputs": [],
   "source": [
    "'''\n",
    "    s0Arr =  [0x57, 0x49, 0xd1, 0xc6, 0x2f, 0x33, 0x74, 0xfb,\n",
    "              0x95, 0x6d, 0x82, 0xea, 0x0e, 0xb0, 0xa8, 0x1c,\n",
    "              0x28, 0xd0, 0x4b, 0x92, 0x5c, 0xee, 0x85, 0xb1,\n",
    "              0xc4, 0x0a, 0x76, 0x3d, 0x63, 0xf9, 0x17, 0xaf,\n",
    "              0xbf, 0xa1, 0x19, 0x65, 0xf7, 0x7a, 0x32, 0x20,\n",
    "              0x06, 0xce, 0xe4, 0x83, 0x9d, 0x5b, 0x4c, 0xd8,\n",
    "              0x42, 0x5d, 0x2e, 0xe8, 0xd4, 0x9b, 0x0f, 0x13,\n",
    "              0x3c, 0x89, 0x67, 0xc0, 0x71, 0xaa, 0xb6, 0xf5,\n",
    "              0xa4, 0xbe, 0xfd, 0x8c, 0x12, 0x00, 0x97, 0xda,\n",
    "              0x78, 0xe1, 0xcf, 0x6b, 0x39, 0x43, 0x55, 0x26,\n",
    "              0x30, 0x98, 0xcc, 0xdd, 0xeb, 0x54, 0xb3, 0x8f,\n",
    "              0x4e, 0x16, 0xfa, 0x22, 0xa5, 0x77, 0x09, 0x61,\n",
    "              0xd6, 0x2a, 0x53, 0x37, 0x45, 0xc1, 0x6c, 0xae,\n",
    "              0xef, 0x70, 0x08, 0x99, 0x8b, 0x1d, 0xf2, 0xb4,\n",
    "              0xe9, 0xc7, 0x9f, 0x4a, 0x31, 0x25, 0xfe, 0x7c,\n",
    "              0xd3, 0xa2, 0xbd, 0x56, 0x14, 0x88, 0x60, 0x0b,\n",
    "              0xcd, 0xe2, 0x34, 0x50, 0x9e, 0xdc, 0x11, 0x05,\n",
    "              0x2b, 0xb7, 0xa9, 0x48, 0xff, 0x66, 0x8a, 0x73,\n",
    "              0x03, 0x75, 0x86, 0xf1, 0x6a, 0xa7, 0x40, 0xc2,\n",
    "              0xb9, 0x2c, 0xdb, 0x1f, 0x58, 0x94, 0x3e, 0xed,\n",
    "              0xfc, 0x1b, 0xa0, 0x04, 0xb8, 0x8d, 0xe6, 0x59,\n",
    "              0x62, 0x93, 0x35, 0x7e, 0xca, 0x21, 0xdf, 0x47,\n",
    "              0x15, 0xf3, 0xba, 0x7f, 0xa6, 0x69, 0xc8, 0x4d,\n",
    "              0x87, 0x3b, 0x9c, 0x01, 0xe0, 0xde, 0x24, 0x52,\n",
    "              0x7b, 0x0c, 0x68, 0x1e, 0x80, 0xb2, 0x5a, 0xe7,\n",
    "              0xad, 0xd5, 0x23, 0xf4, 0x46, 0x3f, 0x91, 0xc9,\n",
    "              0x6e, 0x84, 0x72, 0xbb, 0x0d, 0x18, 0xd9, 0x96,\n",
    "              0xf0, 0x5f, 0x41, 0xac, 0x27, 0xc5, 0xe3, 0x3a,\n",
    "              0x81, 0x6f, 0x07, 0xa3, 0x79, 0xf6, 0x2d, 0x38,\n",
    "              0x1a, 0x44, 0x5e, 0xb5, 0xd2, 0xec, 0xcb, 0x90,\n",
    "              0x9a, 0x36, 0xe5, 0x29, 0xc3, 0x4f, 0xab, 0x64,\n",
    "              0x51, 0xf8, 0x10, 0xd7, 0xbc, 0x02, 0x7d, 0x8e]\n",
    "'''\n",
    "'''\n",
    "    s1Arr =  [0x6c, 0xda, 0xc3, 0xe9, 0x4e, 0x9d, 0x0a, 0x3d,\n",
    "              0xb8, 0x36, 0xb4, 0x38, 0x13, 0x34, 0x0c, 0xd9,\n",
    "              0xbf, 0x74, 0x94, 0x8f, 0xb7, 0x9c, 0xe5, 0xdc,\n",
    "              0x9e, 0x07, 0x49, 0x4f, 0x98, 0x2c, 0xb0, 0x93,\n",
    "              0x12, 0xeb, 0xcd, 0xb3, 0x92, 0xe7, 0x41, 0x60,\n",
    "              0xe3, 0x21, 0x27, 0x3b, 0xe6, 0x19, 0xd2, 0x0e,\n",
    "              0x91, 0x11, 0xc7, 0x3f, 0x2a, 0x8e, 0xa1, 0xbc,\n",
    "              0x2b, 0xc8, 0xc5, 0x0f, 0x5b, 0xf3, 0x87, 0x8b,\n",
    "              0xfb, 0xf5, 0xde, 0x20, 0xc6, 0xa7, 0x84, 0xce,\n",
    "              0xd8, 0x65, 0x51, 0xc9, 0xa4, 0xef, 0x43, 0x53,\n",
    "              0x25, 0x5d, 0x9b, 0x31, 0xe8, 0x3e, 0x0d, 0xd7,\n",
    "              0x80, 0xff, 0x69, 0x8a, 0xba, 0x0b, 0x73, 0x5c,\n",
    "              0x6e, 0x54, 0x15, 0x62, 0xf6, 0x35, 0x30, 0x52,\n",
    "              0xa3, 0x16, 0xd3, 0x28, 0x32, 0xfa, 0xaa, 0x5e,\n",
    "              0xcf, 0xea, 0xed, 0x78, 0x33, 0x58, 0x09, 0x7b,\n",
    "              0x63, 0xc0, 0xc1, 0x46, 0x1e, 0xdf, 0xa9, 0x99,\n",
    "              0x55, 0x04, 0xc4, 0x86, 0x39, 0x77, 0x82, 0xec,\n",
    "              0x40, 0x18, 0x90, 0x97, 0x59, 0xdd, 0x83, 0x1f,\n",
    "              0x9a, 0x37, 0x06, 0x24, 0x64, 0x7c, 0xa5, 0x56,\n",
    "              0x48, 0x08, 0x85, 0xd0, 0x61, 0x26, 0xca, 0x6f,\n",
    "              0x7e, 0x6a, 0xb6, 0x71, 0xa0, 0x70, 0x05, 0xd1,\n",
    "              0x45, 0x8c, 0x23, 0x1c, 0xf0, 0xee, 0x89, 0xad,\n",
    "              0x7a, 0x4b, 0xc2, 0x2f, 0xdb, 0x5a, 0x4d, 0x76,\n",
    "              0x67, 0x17, 0x2d, 0xf4, 0xcb, 0xb1, 0x4a, 0xa8,\n",
    "              0xb5, 0x22, 0x47, 0x3a, 0xd5, 0x10, 0x4c, 0x72,\n",
    "              0xcc, 0x00, 0xf9, 0xe0, 0xfd, 0xe2, 0xfe, 0xae,\n",
    "              0xf8, 0x5f, 0xab, 0xf1, 0x1b, 0x42, 0x81, 0xd6,\n",
    "              0xbe, 0x44, 0x29, 0xa6, 0x57, 0xb9, 0xaf, 0xf2,\n",
    "              0xd4, 0x75, 0x66, 0xbb, 0x68, 0x9f, 0x50, 0x02,\n",
    "              0x01, 0x3c, 0x7f, 0x8d, 0x1a, 0x88, 0xbd, 0xac,\n",
    "              0xf7, 0xe4, 0x79, 0x96, 0xa2, 0xfc, 0x6d, 0xb2,\n",
    "              0x6b, 0x03, 0xe1, 0x2e, 0x7d, 0x14, 0x95, 0x1d]\n",
    "'''\n",
    "    \n",
    "'''\n",
    "def f0(inp):\n",
    "    \n",
    "    tf00 = np.load(path_to_data+\"tf00.npy\", \"r\")\n",
    "    tf01 = np.load(path_to_data+\"tf01.npy\", \"r\")\n",
    "    tf02 = np.load(path_to_data+\"tf02.npy\", \"r\")\n",
    "    tf03 = np.load(path_to_data+\"tf03.npy\", \"r\")\n",
    "    \n",
    "    out = tf00[inp[0]] ^ tf01[inp[1]] ^ tf02[inp[2]] ^ tf03[inp[3]]\n",
    "    return out\n",
    "\n",
    "def f1(inp):\n",
    "    \n",
    "    tf10 = np.load(path_to_data+\"tf10.npy\", \"r\")\n",
    "    tf11 = np.load(path_to_data+\"tf11.npy\", \"r\")\n",
    "    tf12 = np.load(path_to_data+\"tf12.npy\", \"r\")\n",
    "    tf13 = np.load(path_to_data+\"tf13.npy\", \"r\")\n",
    "    \n",
    "    out = tf10[inp[0]] ^ tf11[inp[1]] ^ tf12[inp[2]] ^ tf13[inp[3]]\n",
    "    return out\n",
    "\n",
    "def intermediate(pt, rk0, rk1, wk0, wk1):\n",
    "    # Assumption: pt is an array of 32-bit integers with 4 elements; rk's and wk's are 32-b ints\n",
    "        \n",
    "    # Ensure correct bit-width match!\n",
    "    out0 = f0(rk0 ^ pt[0])\n",
    "    out1 = pt[1] ^ wk0\n",
    "    out2 = f1(rk1 ^ pt[2])\n",
    "    out3 = pt[3] ^ wk1\n",
    "    out = [out0, out1, out2, out3]\n",
    "    return out\n",
    "\n",
    "'''\n",
    "\n",
    "'''\n",
    "#for i in range(0, 16):\n",
    "#for i in [4, 5, 6, 7, 12, 13, 14, 15]:\n",
    "for i in [8, 9, 10, 11]:\n",
    "    for keyByte in tqdm(range(0, 256)):\n",
    "        for traceNum in range(activeTraces):\n",
    "            if (i < 4):\n",
    "                if (i % 2 == 0):\n",
    "                    interVal = intermediate_0(textInp[traceNum, i], keyByte)\n",
    "                else:\n",
    "                    interVal = intermediate_1(textInp[traceNum, i], keyByte)\n",
    "            elif (i >= 8 and i < 12):\n",
    "                if (i % 2 == 0):\n",
    "                    interVal = intermediate_1(textInp[traceNum, i], keyByte)\n",
    "                else:\n",
    "                    interVal = intermediate_0(textInp[traceNum, i], keyByte)\n",
    "            else:\n",
    "                interVal = intermediate_xor(textInp[traceNum, i], keyByte)\n",
    "            HWmatrix[traceNum, keyByte] = HW[interVal]\n",
    "       \n",
    "        #for tracePoint in range(startPoint + i*winStride, startPoint + i*winStride + winSize):\n",
    "        hwvec = HWmatrix[:activeTraces, keyByte]\n",
    "        pTrace = powerTrace[:activeTraces, startPoint:endPoint]\n",
    "        corrScore[i, keyByte, startPoint:endPoint] = [np.abs(linregress(hwvec, pTrace[:, point]).slope) \\\n",
    "                                                      for point in range(endPoint - startPoint)]\n",
    "       \n",
    "    maxScoreVec = corrScore[i].max(axis=1)    #maxScore across tracePoints for each guess\n",
    "    top5idx = maxScoreVec.argsort()[-5:]\n",
    "    confScore.append(maxScoreVec[top5idx][-1] / maxScoreVec[top5idx][-2])\n",
    "    guessTop5.append((i, top5idx, maxScoreVec[top5idx]))\n",
    "    keyGuess.append(top5idx[-1])\n",
    "    print(guessTop5)\n",
    "    print(corrScore[i].argmax(axis=1)[top5idx])\n",
    "    print(\"Confidence Score: \", confScore, \"Key Guesses: \", keyGuess)\n",
    "            \n",
    "# Attack bytes 4-7\n",
    "\n",
    "# Attack bytes 8-11\n",
    "\n",
    "# Attack bytes 12-15\n",
    "'''"
   ]
  },
  {
   "cell_type": "code",
   "execution_count": null,
   "metadata": {
    "scrolled": true
   },
   "outputs": [],
   "source": []
  },
  {
   "cell_type": "code",
   "execution_count": null,
   "metadata": {},
   "outputs": [],
   "source": []
  }
 ],
 "metadata": {
  "kernelspec": {
   "display_name": "Python 3 (ipykernel)",
   "language": "python",
   "name": "python3"
  },
  "language_info": {
   "codemirror_mode": {
    "name": "ipython",
    "version": 3
   },
   "file_extension": ".py",
   "mimetype": "text/x-python",
   "name": "python",
   "nbconvert_exporter": "python",
   "pygments_lexer": "ipython3",
   "version": "3.9.7"
  },
  "vscode": {
   "interpreter": {
    "hash": "f0d48f290492e73820e0439ebf2aabd9af1121bf7abbadd11a691e3763c7d8b8"
   }
  }
 },
 "nbformat": 4,
 "nbformat_minor": 2
}
